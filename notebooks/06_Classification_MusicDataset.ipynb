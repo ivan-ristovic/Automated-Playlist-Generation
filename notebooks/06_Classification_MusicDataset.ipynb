{
 "cells": [
  {
   "cell_type": "code",
   "execution_count": 1,
   "metadata": {},
   "outputs": [],
   "source": [
    "from ipynb.fs.full.Utils import load_dataset\n",
    "import numpy as np\n",
    "import pandas as pd\n",
    "from sklearn import preprocessing\n",
    "from matplotlib import pyplot as plt"
   ]
  },
  {
   "cell_type": "code",
   "execution_count": 2,
   "metadata": {},
   "outputs": [
    {
     "name": "stderr",
     "output_type": "stream",
     "text": [
      "/opt/anaconda/lib/python3.6/site-packages/h5py/__init__.py:36: FutureWarning: Conversion of the second argument of issubdtype from `float` to `np.floating` is deprecated. In future, it will be treated as `np.float64 == np.dtype(float).type`.\n",
      "  from ._conv import register_converters as _register_converters\n",
      "Using TensorFlow backend.\n"
     ]
    }
   ],
   "source": [
    "from keras.models import load_model"
   ]
  },
  {
   "cell_type": "code",
   "execution_count": null,
   "metadata": {},
   "outputs": [],
   "source": []
  },
  {
   "cell_type": "code",
   "execution_count": 3,
   "metadata": {},
   "outputs": [],
   "source": [
    "model = load_model(\"../data/classifier.h5\")"
   ]
  },
  {
   "cell_type": "code",
   "execution_count": 4,
   "metadata": {},
   "outputs": [],
   "source": [
    "all_data = pd.read_csv(\"../data/music_dataset.csv\")"
   ]
  },
  {
   "cell_type": "code",
   "execution_count": 5,
   "metadata": {},
   "outputs": [],
   "source": [
    "data = all_data"
   ]
  },
  {
   "cell_type": "code",
   "execution_count": 6,
   "metadata": {},
   "outputs": [
    {
     "data": {
      "text/html": [
       "<div>\n",
       "<style scoped>\n",
       "    .dataframe tbody tr th:only-of-type {\n",
       "        vertical-align: middle;\n",
       "    }\n",
       "\n",
       "    .dataframe tbody tr th {\n",
       "        vertical-align: top;\n",
       "    }\n",
       "\n",
       "    .dataframe thead th {\n",
       "        text-align: right;\n",
       "    }\n",
       "</style>\n",
       "<table border=\"1\" class=\"dataframe\">\n",
       "  <thead>\n",
       "    <tr style=\"text-align: right;\">\n",
       "      <th></th>\n",
       "      <th>id</th>\n",
       "      <th>album_uri</th>\n",
       "      <th>album_name</th>\n",
       "      <th>album_img</th>\n",
       "      <th>album_release_date</th>\n",
       "      <th>album_release_year</th>\n",
       "      <th>album_popularity</th>\n",
       "      <th>track_name</th>\n",
       "      <th>track_uri</th>\n",
       "      <th>danceability</th>\n",
       "      <th>...</th>\n",
       "      <th>acousticness</th>\n",
       "      <th>instrumentalness</th>\n",
       "      <th>liveness</th>\n",
       "      <th>valence</th>\n",
       "      <th>tempo</th>\n",
       "      <th>duration_ms</th>\n",
       "      <th>time_signature</th>\n",
       "      <th>key_mode</th>\n",
       "      <th>track_popularity</th>\n",
       "      <th>artist_name</th>\n",
       "    </tr>\n",
       "  </thead>\n",
       "  <tbody>\n",
       "    <tr>\n",
       "      <th>0</th>\n",
       "      <td>1</td>\n",
       "      <td>0vE6mttRTBXRe9rKghyr1l</td>\n",
       "      <td>The Slim Shady LP</td>\n",
       "      <td>https://i.scdn.co/image/a0f2991fb2081a8b33c8ea...</td>\n",
       "      <td>1999-02-23</td>\n",
       "      <td>1999-02-23</td>\n",
       "      <td>69.0</td>\n",
       "      <td>Public Service Announcement</td>\n",
       "      <td>3GhcNCBIEMyrcpCJ8ccvXr</td>\n",
       "      <td>0.648</td>\n",
       "      <td>...</td>\n",
       "      <td>0.27500</td>\n",
       "      <td>0.000000</td>\n",
       "      <td>0.1360</td>\n",
       "      <td>0.950</td>\n",
       "      <td>149.548</td>\n",
       "      <td>33227.0</td>\n",
       "      <td>1.0</td>\n",
       "      <td>C# major</td>\n",
       "      <td>49.0</td>\n",
       "      <td>Eminem</td>\n",
       "    </tr>\n",
       "    <tr>\n",
       "      <th>1</th>\n",
       "      <td>2</td>\n",
       "      <td>0vE6mttRTBXRe9rKghyr1l</td>\n",
       "      <td>The Slim Shady LP</td>\n",
       "      <td>https://i.scdn.co/image/a0f2991fb2081a8b33c8ea...</td>\n",
       "      <td>1999-02-23</td>\n",
       "      <td>1999-02-23</td>\n",
       "      <td>69.0</td>\n",
       "      <td>My Name Is</td>\n",
       "      <td>75IN3CtuZwTHTnZvYM4qnJ</td>\n",
       "      <td>0.869</td>\n",
       "      <td>...</td>\n",
       "      <td>0.04160</td>\n",
       "      <td>0.000001</td>\n",
       "      <td>0.0914</td>\n",
       "      <td>0.815</td>\n",
       "      <td>85.519</td>\n",
       "      <td>268400.0</td>\n",
       "      <td>4.0</td>\n",
       "      <td>C# major</td>\n",
       "      <td>73.0</td>\n",
       "      <td>Eminem</td>\n",
       "    </tr>\n",
       "    <tr>\n",
       "      <th>2</th>\n",
       "      <td>3</td>\n",
       "      <td>0vE6mttRTBXRe9rKghyr1l</td>\n",
       "      <td>The Slim Shady LP</td>\n",
       "      <td>https://i.scdn.co/image/a0f2991fb2081a8b33c8ea...</td>\n",
       "      <td>1999-02-23</td>\n",
       "      <td>1999-02-23</td>\n",
       "      <td>69.0</td>\n",
       "      <td>Guilty Conscience</td>\n",
       "      <td>6da04YB906XonC6IQNC44u</td>\n",
       "      <td>0.660</td>\n",
       "      <td>...</td>\n",
       "      <td>0.05270</td>\n",
       "      <td>0.000000</td>\n",
       "      <td>0.3410</td>\n",
       "      <td>0.513</td>\n",
       "      <td>182.218</td>\n",
       "      <td>199333.0</td>\n",
       "      <td>4.0</td>\n",
       "      <td>G major</td>\n",
       "      <td>66.0</td>\n",
       "      <td>Eminem</td>\n",
       "    </tr>\n",
       "    <tr>\n",
       "      <th>3</th>\n",
       "      <td>4</td>\n",
       "      <td>0vE6mttRTBXRe9rKghyr1l</td>\n",
       "      <td>The Slim Shady LP</td>\n",
       "      <td>https://i.scdn.co/image/a0f2991fb2081a8b33c8ea...</td>\n",
       "      <td>1999-02-23</td>\n",
       "      <td>1999-02-23</td>\n",
       "      <td>69.0</td>\n",
       "      <td>Brain Damage</td>\n",
       "      <td>099MPsZhn5HkEUNlpA89rK</td>\n",
       "      <td>0.866</td>\n",
       "      <td>...</td>\n",
       "      <td>0.00917</td>\n",
       "      <td>0.000000</td>\n",
       "      <td>0.0655</td>\n",
       "      <td>0.831</td>\n",
       "      <td>94.982</td>\n",
       "      <td>226733.0</td>\n",
       "      <td>4.0</td>\n",
       "      <td>D major</td>\n",
       "      <td>58.0</td>\n",
       "      <td>Eminem</td>\n",
       "    </tr>\n",
       "    <tr>\n",
       "      <th>4</th>\n",
       "      <td>5</td>\n",
       "      <td>0vE6mttRTBXRe9rKghyr1l</td>\n",
       "      <td>The Slim Shady LP</td>\n",
       "      <td>https://i.scdn.co/image/a0f2991fb2081a8b33c8ea...</td>\n",
       "      <td>1999-02-23</td>\n",
       "      <td>1999-02-23</td>\n",
       "      <td>69.0</td>\n",
       "      <td>Paul - Skit</td>\n",
       "      <td>0AaKi10VdO06R4fkBFBslc</td>\n",
       "      <td>0.816</td>\n",
       "      <td>...</td>\n",
       "      <td>0.98100</td>\n",
       "      <td>0.000059</td>\n",
       "      <td>0.7990</td>\n",
       "      <td>0.837</td>\n",
       "      <td>130.845</td>\n",
       "      <td>15840.0</td>\n",
       "      <td>4.0</td>\n",
       "      <td>G# major</td>\n",
       "      <td>2.0</td>\n",
       "      <td>Eminem</td>\n",
       "    </tr>\n",
       "  </tbody>\n",
       "</table>\n",
       "<p>5 rows × 25 columns</p>\n",
       "</div>"
      ],
      "text/plain": [
       "   id               album_uri         album_name  \\\n",
       "0   1  0vE6mttRTBXRe9rKghyr1l  The Slim Shady LP   \n",
       "1   2  0vE6mttRTBXRe9rKghyr1l  The Slim Shady LP   \n",
       "2   3  0vE6mttRTBXRe9rKghyr1l  The Slim Shady LP   \n",
       "3   4  0vE6mttRTBXRe9rKghyr1l  The Slim Shady LP   \n",
       "4   5  0vE6mttRTBXRe9rKghyr1l  The Slim Shady LP   \n",
       "\n",
       "                                           album_img album_release_date  \\\n",
       "0  https://i.scdn.co/image/a0f2991fb2081a8b33c8ea...         1999-02-23   \n",
       "1  https://i.scdn.co/image/a0f2991fb2081a8b33c8ea...         1999-02-23   \n",
       "2  https://i.scdn.co/image/a0f2991fb2081a8b33c8ea...         1999-02-23   \n",
       "3  https://i.scdn.co/image/a0f2991fb2081a8b33c8ea...         1999-02-23   \n",
       "4  https://i.scdn.co/image/a0f2991fb2081a8b33c8ea...         1999-02-23   \n",
       "\n",
       "  album_release_year  album_popularity                   track_name  \\\n",
       "0         1999-02-23              69.0  Public Service Announcement   \n",
       "1         1999-02-23              69.0                   My Name Is   \n",
       "2         1999-02-23              69.0            Guilty Conscience   \n",
       "3         1999-02-23              69.0                 Brain Damage   \n",
       "4         1999-02-23              69.0                  Paul - Skit   \n",
       "\n",
       "                track_uri  danceability     ...       acousticness  \\\n",
       "0  3GhcNCBIEMyrcpCJ8ccvXr         0.648     ...            0.27500   \n",
       "1  75IN3CtuZwTHTnZvYM4qnJ         0.869     ...            0.04160   \n",
       "2  6da04YB906XonC6IQNC44u         0.660     ...            0.05270   \n",
       "3  099MPsZhn5HkEUNlpA89rK         0.866     ...            0.00917   \n",
       "4  0AaKi10VdO06R4fkBFBslc         0.816     ...            0.98100   \n",
       "\n",
       "  instrumentalness  liveness valence    tempo  duration_ms  time_signature  \\\n",
       "0         0.000000    0.1360   0.950  149.548      33227.0             1.0   \n",
       "1         0.000001    0.0914   0.815   85.519     268400.0             4.0   \n",
       "2         0.000000    0.3410   0.513  182.218     199333.0             4.0   \n",
       "3         0.000000    0.0655   0.831   94.982     226733.0             4.0   \n",
       "4         0.000059    0.7990   0.837  130.845      15840.0             4.0   \n",
       "\n",
       "   key_mode  track_popularity  artist_name  \n",
       "0  C# major              49.0       Eminem  \n",
       "1  C# major              73.0       Eminem  \n",
       "2   G major              66.0       Eminem  \n",
       "3   D major              58.0       Eminem  \n",
       "4  G# major               2.0       Eminem  \n",
       "\n",
       "[5 rows x 25 columns]"
      ]
     },
     "execution_count": 6,
     "metadata": {},
     "output_type": "execute_result"
    }
   ],
   "source": [
    "data.head()"
   ]
  },
  {
   "cell_type": "code",
   "execution_count": 7,
   "metadata": {},
   "outputs": [],
   "source": [
    "relevant_cols = ['danceability', 'energy', 'key', 'loudness', 'mode', 'speechiness', \\\n",
    "                     'acousticness', 'instrumentalness', 'liveness', 'valence', 'tempo', \\\n",
    "                     'duration_ms', 'time_signature']\n",
    "data = data[relevant_cols]"
   ]
  },
  {
   "cell_type": "code",
   "execution_count": 8,
   "metadata": {},
   "outputs": [
    {
     "name": "stderr",
     "output_type": "stream",
     "text": [
      "/opt/anaconda/lib/python3.6/site-packages/ipykernel_launcher.py:1: SettingWithCopyWarning: \n",
      "A value is trying to be set on a copy of a slice from a DataFrame.\n",
      "Try using .loc[row_indexer,col_indexer] = value instead\n",
      "\n",
      "See the caveats in the documentation: http://pandas.pydata.org/pandas-docs/stable/indexing.html#indexing-view-versus-copy\n",
      "  \"\"\"Entry point for launching an IPython kernel.\n"
     ]
    }
   ],
   "source": [
    "data['mode'] = [0 if mode == 'minor' else 1 for mode in data['mode']]\n",
    "data = pd.concat([data, pd.get_dummies(data['key'])], axis=1)\n",
    "data = data.drop('key', axis = 1)"
   ]
  },
  {
   "cell_type": "code",
   "execution_count": 9,
   "metadata": {},
   "outputs": [
    {
     "data": {
      "text/html": [
       "<div>\n",
       "<style scoped>\n",
       "    .dataframe tbody tr th:only-of-type {\n",
       "        vertical-align: middle;\n",
       "    }\n",
       "\n",
       "    .dataframe tbody tr th {\n",
       "        vertical-align: top;\n",
       "    }\n",
       "\n",
       "    .dataframe thead th {\n",
       "        text-align: right;\n",
       "    }\n",
       "</style>\n",
       "<table border=\"1\" class=\"dataframe\">\n",
       "  <thead>\n",
       "    <tr style=\"text-align: right;\">\n",
       "      <th></th>\n",
       "      <th>danceability</th>\n",
       "      <th>energy</th>\n",
       "      <th>loudness</th>\n",
       "      <th>mode</th>\n",
       "      <th>speechiness</th>\n",
       "      <th>acousticness</th>\n",
       "      <th>instrumentalness</th>\n",
       "      <th>liveness</th>\n",
       "      <th>valence</th>\n",
       "      <th>tempo</th>\n",
       "      <th>...</th>\n",
       "      <th>B</th>\n",
       "      <th>C</th>\n",
       "      <th>C#</th>\n",
       "      <th>D</th>\n",
       "      <th>D#</th>\n",
       "      <th>E</th>\n",
       "      <th>F</th>\n",
       "      <th>F#</th>\n",
       "      <th>G</th>\n",
       "      <th>G#</th>\n",
       "    </tr>\n",
       "  </thead>\n",
       "  <tbody>\n",
       "    <tr>\n",
       "      <th>0</th>\n",
       "      <td>0.648</td>\n",
       "      <td>0.199</td>\n",
       "      <td>-25.565</td>\n",
       "      <td>1</td>\n",
       "      <td>0.883</td>\n",
       "      <td>0.27500</td>\n",
       "      <td>0.000000</td>\n",
       "      <td>0.1360</td>\n",
       "      <td>0.950</td>\n",
       "      <td>149.548</td>\n",
       "      <td>...</td>\n",
       "      <td>0</td>\n",
       "      <td>0</td>\n",
       "      <td>1</td>\n",
       "      <td>0</td>\n",
       "      <td>0</td>\n",
       "      <td>0</td>\n",
       "      <td>0</td>\n",
       "      <td>0</td>\n",
       "      <td>0</td>\n",
       "      <td>0</td>\n",
       "    </tr>\n",
       "    <tr>\n",
       "      <th>1</th>\n",
       "      <td>0.869</td>\n",
       "      <td>0.680</td>\n",
       "      <td>-6.233</td>\n",
       "      <td>1</td>\n",
       "      <td>0.318</td>\n",
       "      <td>0.04160</td>\n",
       "      <td>0.000001</td>\n",
       "      <td>0.0914</td>\n",
       "      <td>0.815</td>\n",
       "      <td>85.519</td>\n",
       "      <td>...</td>\n",
       "      <td>0</td>\n",
       "      <td>0</td>\n",
       "      <td>1</td>\n",
       "      <td>0</td>\n",
       "      <td>0</td>\n",
       "      <td>0</td>\n",
       "      <td>0</td>\n",
       "      <td>0</td>\n",
       "      <td>0</td>\n",
       "      <td>0</td>\n",
       "    </tr>\n",
       "    <tr>\n",
       "      <th>2</th>\n",
       "      <td>0.660</td>\n",
       "      <td>0.789</td>\n",
       "      <td>-5.143</td>\n",
       "      <td>1</td>\n",
       "      <td>0.364</td>\n",
       "      <td>0.05270</td>\n",
       "      <td>0.000000</td>\n",
       "      <td>0.3410</td>\n",
       "      <td>0.513</td>\n",
       "      <td>182.218</td>\n",
       "      <td>...</td>\n",
       "      <td>0</td>\n",
       "      <td>0</td>\n",
       "      <td>0</td>\n",
       "      <td>0</td>\n",
       "      <td>0</td>\n",
       "      <td>0</td>\n",
       "      <td>0</td>\n",
       "      <td>0</td>\n",
       "      <td>1</td>\n",
       "      <td>0</td>\n",
       "    </tr>\n",
       "    <tr>\n",
       "      <th>3</th>\n",
       "      <td>0.866</td>\n",
       "      <td>0.599</td>\n",
       "      <td>-7.903</td>\n",
       "      <td>1</td>\n",
       "      <td>0.163</td>\n",
       "      <td>0.00917</td>\n",
       "      <td>0.000000</td>\n",
       "      <td>0.0655</td>\n",
       "      <td>0.831</td>\n",
       "      <td>94.982</td>\n",
       "      <td>...</td>\n",
       "      <td>0</td>\n",
       "      <td>0</td>\n",
       "      <td>0</td>\n",
       "      <td>1</td>\n",
       "      <td>0</td>\n",
       "      <td>0</td>\n",
       "      <td>0</td>\n",
       "      <td>0</td>\n",
       "      <td>0</td>\n",
       "      <td>0</td>\n",
       "    </tr>\n",
       "    <tr>\n",
       "      <th>4</th>\n",
       "      <td>0.816</td>\n",
       "      <td>0.266</td>\n",
       "      <td>-19.654</td>\n",
       "      <td>1</td>\n",
       "      <td>0.865</td>\n",
       "      <td>0.98100</td>\n",
       "      <td>0.000059</td>\n",
       "      <td>0.7990</td>\n",
       "      <td>0.837</td>\n",
       "      <td>130.845</td>\n",
       "      <td>...</td>\n",
       "      <td>0</td>\n",
       "      <td>0</td>\n",
       "      <td>0</td>\n",
       "      <td>0</td>\n",
       "      <td>0</td>\n",
       "      <td>0</td>\n",
       "      <td>0</td>\n",
       "      <td>0</td>\n",
       "      <td>0</td>\n",
       "      <td>1</td>\n",
       "    </tr>\n",
       "  </tbody>\n",
       "</table>\n",
       "<p>5 rows × 24 columns</p>\n",
       "</div>"
      ],
      "text/plain": [
       "   danceability  energy  loudness  mode  speechiness  acousticness  \\\n",
       "0         0.648   0.199   -25.565     1        0.883       0.27500   \n",
       "1         0.869   0.680    -6.233     1        0.318       0.04160   \n",
       "2         0.660   0.789    -5.143     1        0.364       0.05270   \n",
       "3         0.866   0.599    -7.903     1        0.163       0.00917   \n",
       "4         0.816   0.266   -19.654     1        0.865       0.98100   \n",
       "\n",
       "   instrumentalness  liveness  valence    tempo ...  B  C  C#  D  D#  E  F  \\\n",
       "0          0.000000    0.1360    0.950  149.548 ...  0  0   1  0   0  0  0   \n",
       "1          0.000001    0.0914    0.815   85.519 ...  0  0   1  0   0  0  0   \n",
       "2          0.000000    0.3410    0.513  182.218 ...  0  0   0  0   0  0  0   \n",
       "3          0.000000    0.0655    0.831   94.982 ...  0  0   0  1   0  0  0   \n",
       "4          0.000059    0.7990    0.837  130.845 ...  0  0   0  0   0  0  0   \n",
       "\n",
       "   F#  G  G#  \n",
       "0   0  0   0  \n",
       "1   0  0   0  \n",
       "2   0  1   0  \n",
       "3   0  0   0  \n",
       "4   0  0   1  \n",
       "\n",
       "[5 rows x 24 columns]"
      ]
     },
     "execution_count": 9,
     "metadata": {},
     "output_type": "execute_result"
    }
   ],
   "source": [
    "data.head()"
   ]
  },
  {
   "cell_type": "code",
   "execution_count": 10,
   "metadata": {},
   "outputs": [],
   "source": [
    "x = data"
   ]
  },
  {
   "cell_type": "code",
   "execution_count": 11,
   "metadata": {},
   "outputs": [],
   "source": [
    "x['danceability'] = [0 if np.isnan(d) else d for d in x['danceability']]\n",
    "x['energy'] = [0 if np.isnan(d) else d for d in x['energy']]\n",
    "x['loudness'] = [0 if np.isnan(d) else d for d in x['loudness']]\n",
    "x['acousticness'] = [0 if np.isnan(d) else d for d in x['acousticness']]\n",
    "x['speechiness'] = [0 if np.isnan(d) else d for d in x['speechiness']]\n",
    "x['instrumentalness'] = [0 if np.isnan(d) else d for d in x['instrumentalness']]\n",
    "x['liveness'] = [0 if np.isnan(d) else d for d in x['liveness']]\n",
    "x['valence'] = [0 if np.isnan(d) else d for d in x['valence']]\n",
    "x['tempo'] = [0 if np.isnan(d) else d for d in x['tempo']]\n",
    "x['duration_ms'] = [0 if np.isnan(d) else d for d in x['duration_ms']]\n",
    "x['time_signature'] = [0 if np.isnan(d) else d for d in x['time_signature']]"
   ]
  },
  {
   "cell_type": "code",
   "execution_count": 12,
   "metadata": {},
   "outputs": [
    {
     "data": {
      "text/plain": [
       "danceability        0\n",
       "energy              0\n",
       "loudness            0\n",
       "mode                0\n",
       "speechiness         0\n",
       "acousticness        0\n",
       "instrumentalness    0\n",
       "liveness            0\n",
       "valence             0\n",
       "tempo               0\n",
       "duration_ms         0\n",
       "time_signature      0\n",
       "A                   0\n",
       "A#                  0\n",
       "B                   0\n",
       "C                   0\n",
       "C#                  0\n",
       "D                   0\n",
       "D#                  0\n",
       "E                   0\n",
       "F                   0\n",
       "F#                  0\n",
       "G                   0\n",
       "G#                  0\n",
       "dtype: int64"
      ]
     },
     "execution_count": 12,
     "metadata": {},
     "output_type": "execute_result"
    }
   ],
   "source": [
    "np.sum(x.isna())"
   ]
  },
  {
   "cell_type": "code",
   "execution_count": null,
   "metadata": {},
   "outputs": [],
   "source": []
  },
  {
   "cell_type": "code",
   "execution_count": 13,
   "metadata": {},
   "outputs": [],
   "source": [
    "scaler = preprocessing.StandardScaler()\n",
    "scaler.fit(x)\n",
    "x = scaler.transform(x)"
   ]
  },
  {
   "cell_type": "code",
   "execution_count": 14,
   "metadata": {},
   "outputs": [
    {
     "data": {
      "text/plain": [
       "(3608, 24)"
      ]
     },
     "execution_count": 14,
     "metadata": {},
     "output_type": "execute_result"
    }
   ],
   "source": [
    "x.shape"
   ]
  },
  {
   "cell_type": "code",
   "execution_count": 15,
   "metadata": {},
   "outputs": [],
   "source": [
    "y_predicted = model.predict(x)"
   ]
  },
  {
   "cell_type": "code",
   "execution_count": 16,
   "metadata": {},
   "outputs": [
    {
     "data": {
      "text/plain": [
       "14"
      ]
     },
     "execution_count": 16,
     "metadata": {},
     "output_type": "execute_result"
    }
   ],
   "source": [
    "np.argmax(y_predicted[3:5])"
   ]
  },
  {
   "cell_type": "code",
   "execution_count": 17,
   "metadata": {},
   "outputs": [
    {
     "data": {
      "text/plain": [
       "array([[2.5352079e-01, 3.4705022e-01, 1.4526417e-04, 1.6852033e-01,\n",
       "        5.6937612e-03, 5.4563337e-04, 3.7712313e-02, 5.2070315e-04,\n",
       "        4.5715313e-02, 3.5385517e-03, 4.9274130e-04, 7.6255821e-02,\n",
       "        1.2768530e-02, 4.7520146e-02],\n",
       "       [3.9605024e-01, 3.5424554e-01, 6.6245636e-09, 2.2511676e-01,\n",
       "        1.5298385e-03, 1.4704439e-02, 3.0385127e-04, 4.0485342e-05,\n",
       "        9.4054427e-05, 3.7850237e-05, 3.4215424e-04, 6.3706604e-03,\n",
       "        2.7676407e-04, 8.8725676e-04]], dtype=float32)"
      ]
     },
     "execution_count": 17,
     "metadata": {},
     "output_type": "execute_result"
    }
   ],
   "source": [
    "y_predicted[3:5]"
   ]
  },
  {
   "cell_type": "code",
   "execution_count": 18,
   "metadata": {},
   "outputs": [],
   "source": [
    "y_categories = [np.argmax(y) for y in y_predicted]"
   ]
  },
  {
   "cell_type": "code",
   "execution_count": 19,
   "metadata": {},
   "outputs": [
    {
     "data": {
      "text/plain": [
       "[1, 0]"
      ]
     },
     "execution_count": 19,
     "metadata": {},
     "output_type": "execute_result"
    }
   ],
   "source": [
    "y_categories[3:5]"
   ]
  },
  {
   "cell_type": "code",
   "execution_count": 20,
   "metadata": {},
   "outputs": [],
   "source": [
    "categories = np.array(['chill', 'classical', 'country', 'hiphop', 'indie_alt', 'jazz', 'latin', 'metal', 'party', \\\n",
    "                       'pop', 'punk', 'rnb', 'rock', 'workout'])"
   ]
  },
  {
   "cell_type": "code",
   "execution_count": 21,
   "metadata": {},
   "outputs": [],
   "source": [
    "y_categories_final = np.array([categories[y] for y in y_categories])"
   ]
  },
  {
   "cell_type": "code",
   "execution_count": 22,
   "metadata": {},
   "outputs": [
    {
     "name": "stdout",
     "output_type": "stream",
     "text": [
      "(25, 2)\n"
     ]
    }
   ],
   "source": [
    "final = np.array(list(zip(y_categories_final, all_data)))\n",
    "print(final.shape)"
   ]
  },
  {
   "cell_type": "code",
   "execution_count": 23,
   "metadata": {},
   "outputs": [],
   "source": [
    "y_categories_final = y_categories_final.reshape(y_categories_final.shape[0], 1)"
   ]
  },
  {
   "cell_type": "code",
   "execution_count": 24,
   "metadata": {},
   "outputs": [
    {
     "name": "stdout",
     "output_type": "stream",
     "text": [
      "(3608, 1)\n",
      "(3608, 25)\n"
     ]
    }
   ],
   "source": [
    "print(y_categories_final.shape)\n",
    "print(all_data.shape)"
   ]
  },
  {
   "cell_type": "code",
   "execution_count": 25,
   "metadata": {},
   "outputs": [],
   "source": [
    "result = np.concatenate((y_categories_final, all_data), axis=1)"
   ]
  },
  {
   "cell_type": "code",
   "execution_count": 26,
   "metadata": {},
   "outputs": [
    {
     "name": "stdout",
     "output_type": "stream",
     "text": [
      "[['chill' 2001 '2vKNa8kIQuLZmCgWDOU0iQ' 'Playlist Your Way'\n",
      "  'https://i.scdn.co/image/c198986a87ae65d24e5402b9b85d98b38a7c0527'\n",
      "  '2008-01-01' '2008-01-01' 24.0 'Hey Porter' '69YRYwl9dunPhdkOTNcmOT'\n",
      "  0.716 0.76 'E' -8.711 'minor' 0.0456 0.0904 0.136 0.0988 0.875 115.43\n",
      "  140307.0 4.0 'E minor' 9.0 'Johnny Cash']]\n"
     ]
    }
   ],
   "source": [
    "print(result[2000:2001])"
   ]
  },
  {
   "cell_type": "code",
   "execution_count": 27,
   "metadata": {},
   "outputs": [],
   "source": [
    "np.savetxt(\"../data/music_dataset_classified.csv\", result, delimiter=\",\", fmt=\"%s\")"
   ]
  },
  {
   "cell_type": "markdown",
   "metadata": {},
   "source": [
    "### Generate hiphop playlist"
   ]
  },
  {
   "cell_type": "code",
   "execution_count": 28,
   "metadata": {},
   "outputs": [
    {
     "name": "stdout",
     "output_type": "stream",
     "text": [
      "Artist, Song, track_uri\n",
      "Eminem, Public Service Announcement, 0vE6mttRTBXRe9rKghyr1l\n",
      "Eminem, Bitch - Skit, 0vE6mttRTBXRe9rKghyr1l\n",
      "Eminem, Role Model, 0vE6mttRTBXRe9rKghyr1l\n",
      "Eminem, Ken Kaniff - Skit, 0vE6mttRTBXRe9rKghyr1l\n",
      "Eminem, Public Service Announcement 2000, 5xifZlByZcZecgkP7sYSoW\n",
      "Eminem, Who Knew, 5xifZlByZcZecgkP7sYSoW\n",
      "Eminem, Steve Berman, 5xifZlByZcZecgkP7sYSoW\n",
      "Eminem, The Kids, 5xifZlByZcZecgkP7sYSoW\n",
      "Eminem, Paul Rosenberg - Skit, 6FSYxVo82U1lXyDAKYqpvi\n",
      "Eminem, Steve Berman - Skit, 6FSYxVo82U1lXyDAKYqpvi\n",
      "Eminem, Say What You Say, 6FSYxVo82U1lXyDAKYqpvi\n",
      "Eminem, Never Enough, 4F1k3oxk5iTQKenjkBpDe4\n",
      "Eminem, Big Weenie, 4F1k3oxk5iTQKenjkBpDe4\n",
      "Eminem, Em Calls Paul - Skit, 4F1k3oxk5iTQKenjkBpDe4\n",
      "Eminem, Ass Like That, 4F1k3oxk5iTQKenjkBpDe4\n",
      "Eminem, Guilty Conscience, 7noFMA2IKYinbfffRFcCGk\n",
      "Eminem, Role Model, 7noFMA2IKYinbfffRFcCGk\n",
      "Eminem, Guilty Conscience, 1zUY4PAFrNUOCeaEBrEHzh\n",
      "Eminem, Dr. West - Skit, 7MZzYkbHL9Tk3O6WeD4Z0Z\n",
      "Eminem, Paul - Skit, 7MZzYkbHL9Tk3O6WeD4Z0Z\n",
      "Eminem, Must Be The Ganja, 7MZzYkbHL9Tk3O6WeD4Z0Z\n",
      "Eminem, Steve Berman - Skit, 7MZzYkbHL9Tk3O6WeD4Z0Z\n",
      "Eminem, Medicine Ball, 6tgULf2EfJoT8n1StuPQJt\n",
      "Eminem, Paul - Skit, 6tgULf2EfJoT8n1StuPQJt\n",
      "Eminem, Must Be The Ganja, 6tgULf2EfJoT8n1StuPQJt\n",
      "Eminem, Steve Berman - Skit, 6tgULf2EfJoT8n1StuPQJt\n",
      "Eminem, Cold Wind Blows, 47BiFcV59TQi2s9SkBo2pb\n",
      "Eminem, Offended, 0U6ldwLBEMkwgfQRY4V6D2\n",
      "Aerosmith, Intro, 1tuM8yBePaekEruGsH2J79\n",
      "Dr. Dre, The Watcher, 5csXMdS69VOvh8MjyfwkjB\n",
      "Dr. Dre, Fuck You, 5csXMdS69VOvh8MjyfwkjB\n",
      "Dr. Dre, Let's Get High, 5csXMdS69VOvh8MjyfwkjB\n",
      "Dr. Dre, Bitch Niggaz, 5csXMdS69VOvh8MjyfwkjB\n",
      "Dr. Dre, The Car Bomb, 5csXMdS69VOvh8MjyfwkjB\n",
      "2Pac, Keep Ya Head Up, 7FK1855C3n1Q0RKbmvl7ll\n",
      "2Pac, Intro, 3OrucS4sHv6Bl9GS4rafEk\n",
      "2Pac, Redemption, 7zURSbIVZ5vl3NIKkrVRvl\n",
      "2Pac, Open Fire, 7zURSbIVZ5vl3NIKkrVRvl\n",
      "2Pac, Fake Ass Bitches, 7zURSbIVZ5vl3NIKkrVRvl\n",
      "2Pac, Tupac Interlude, 17v0WKUfqS4lRiWslYyVWh\n",
      "2Pac, When Ure Heart Turns Cold, 17v0WKUfqS4lRiWslYyVWh\n",
      "2Pac, The Rose That Grew From Concrete, 17v0WKUfqS4lRiWslYyVWh\n",
      "2Pac, What Of Fame?, 17v0WKUfqS4lRiWslYyVWh\n",
      "2Pac, Only 4 The Righteous, 17v0WKUfqS4lRiWslYyVWh\n",
      "2Pac, Why Must U Be Unfaithful, 17v0WKUfqS4lRiWslYyVWh\n",
      "2Pac, My Closest RoadDogz - Album Version (Edited), 7AdntJMWn1KNRGcc2MwSPw\n",
      "2Pac, Fair Xchange - Jazze Pha Remix, 5tue3HeaFm6XHyYXhI1kww\n",
      "2Pac, One Day At A Time (Em's Version) - Album Version (Edited), 0f69i0LfCoP7WLsMkEhw73\n",
      "2Pac, Secretz Of War - Album Version (Edited), 0f69i0LfCoP7WLsMkEhw73\n",
      "2Pac, The Realist Killaz - Album Version (Edited), 0f69i0LfCoP7WLsMkEhw73\n",
      "2Pac, All Eyez On Me, 3dMVCQhmZhY0VNZpJd42TN\n",
      "2Pac, The Uppercut, 33lk2GnP8cJzl7cd1OJrXn\n",
      "2Pac, N.I.G.G.A. (Never Ignorant About Getting Goals Accomplished), 33lk2GnP8cJzl7cd1OJrXn\n",
      "2Pac, Intro (feat. 40. Cal), 3HpOdUluPn8udzpDxqJAo3\n",
      "2Pac, When Ure Heart Turns Cold, 3HpOdUluPn8udzpDxqJAo3\n",
      "2Pac, Black Woman, 3HpOdUluPn8udzpDxqJAo3\n",
      "2Pac, Do What I Feel - Live, 6D0Hs5x0mIr613AU0jOSM2\n",
      "2Pac, Picture Me Rollin' (feat. Kurupt & Butch Cassidy), 5y1YRK4BJCQWKLHr9gcUMK\n",
      "Rihanna, That La, La, La, 4FyGpObwABjn0o8Tdp7AZz\n",
      "Johnny Cash, Dialogue #1 - Live at the London Palladium, London, UK - September 1975, 3oHKMtDZ749pBz2enrn9NK\n",
      "Johnny Cash, Dialogue #2 - Live at the London Palladium, London, UK - September 1975, 3oHKMtDZ749pBz2enrn9NK\n",
      "Johnny Cash, Church in the Wildwood - Live at the London Palladium, London, UK - September 1975, 3oHKMtDZ749pBz2enrn9NK\n",
      "Johnny Cash, Dialogue #5 - Live at the London Palladium, London, UK - September 1975, 3oHKMtDZ749pBz2enrn9NK\n",
      "Johnny Cash, Dialogue #6 - Live at the London Palladium, London, UK - September 1975, 3oHKMtDZ749pBz2enrn9NK\n",
      "Johnny Cash, Dialogue #4, 4ILt0IpjcGEEpXOotZ7dDY\n",
      "Johnny Cash, Dialogue #5, 4ILt0IpjcGEEpXOotZ7dDY\n",
      "Johnny Cash, Dialogue #6, 4ILt0IpjcGEEpXOotZ7dDY\n",
      "Johnny Cash, On The Road Again - Live, 5oxPtVVFqgBMDwGIzDrmXz\n",
      "Johnny Cash, Drive On - Live, 76MnkPIZLw49vwrIBods74\n",
      "Johnny Cash, The Fourth Man In The Fire, 5xeMctXQWNmMq4aAjwuR3e\n",
      "Johnny Cash, Book Review, 5xeMctXQWNmMq4aAjwuR3e\n",
      "Johnny Cash, Ragged Old Flag - Live At The Paramount Theatre, NJ/1990, 3dE4eOntaYteXaF7fzjLze\n",
      "Johnny Cash, Album Introduction (John Carter Cash Commentary), 3dRFmDw9G5PxumLuaWxPK2\n",
      "Johnny Cash, Out Among the Stars (John Carter Cash Commentary), 3dRFmDw9G5PxumLuaWxPK2\n",
      "Johnny Cash, Baby Ride Easy (John Carter Cash Commentary), 3dRFmDw9G5PxumLuaWxPK2\n",
      "Johnny Cash, She Used to Love Me a Lot (John Carter Cash Commentary), 3dRFmDw9G5PxumLuaWxPK2\n",
      "Johnny Cash, After All (John Carter Cash Commentary), 3dRFmDw9G5PxumLuaWxPK2\n",
      "Johnny Cash, I'm Movin' On (John Carter Cash Commentary), 3dRFmDw9G5PxumLuaWxPK2\n",
      "Johnny Cash, If I Told You Who It Was (John Carter Cash Commentary), 3dRFmDw9G5PxumLuaWxPK2\n",
      "Johnny Cash, Call Your Mother (John Carter Cash Commentary), 3dRFmDw9G5PxumLuaWxPK2\n",
      "Johnny Cash, I Drove Her Out of My Mind (John Carter Cash Commentary), 3dRFmDw9G5PxumLuaWxPK2\n",
      "Johnny Cash, Tennessee (John Carter Cash Commentary), 3dRFmDw9G5PxumLuaWxPK2\n",
      "Johnny Cash, Rock and Roll Shoes (John Carter Cash Commentary), 3dRFmDw9G5PxumLuaWxPK2\n",
      "Johnny Cash, Don't You Think It's Come Our Time (John Carter Cash Commentary), 3dRFmDw9G5PxumLuaWxPK2\n",
      "Johnny Cash, I Came to Believe (John Carter Cash Commentary), 3dRFmDw9G5PxumLuaWxPK2\n",
      "John Denver, Lining Track, 75ChgvAlfFOk9145qwMzD6\n",
      "John Denver, John Speaks To The Audience - Live, 1fl4urF2NbKB7B4UXJlQDE\n",
      "John Denver, Saturday Night In Toledo, Ohio - Live, 1fl4urF2NbKB7B4UXJlQDE\n",
      "John Denver, I Lost My Heart On A 747 (Remastered) - Live, 34tsqj9NVgpD4VzcqHbjif\n",
      "John Denver, Intro To 60 Second Song For A Bank, With The Phrase “May We Help You Today?” (Remastered) - Live, 34tsqj9NVgpD4VzcqHbjif\n",
      "Kishore Kumar, Naari Charitra Bejaay Jatil (From \"Ogo Badhu Sundari\"), 2sCZ54RWTOtaorwbwpa3gg\n",
      "\n"
     ]
    }
   ],
   "source": [
    "playlist = 'Artist, Song, track_uri\\n'\n",
    "for r in result:\n",
    "    if r[0] == 'hiphop':\n",
    "        playlist += r[25] + \", \" + r[8] + \", \" + r[2] + \"\\n\"\n",
    "print(playlist)\n",
    "np.savetxt(\"../data/hiphop_playlist.csv\", [playlist], fmt=\"%s\")"
   ]
  },
  {
   "cell_type": "code",
   "execution_count": null,
   "metadata": {},
   "outputs": [],
   "source": []
  }
 ],
 "metadata": {
  "kernelspec": {
   "display_name": "Python 3",
   "language": "python",
   "name": "python3"
  },
  "language_info": {
   "codemirror_mode": {
    "name": "ipython",
    "version": 3
   },
   "file_extension": ".py",
   "mimetype": "text/x-python",
   "name": "python",
   "nbconvert_exporter": "python",
   "pygments_lexer": "ipython3",
   "version": "3.6.5"
  }
 },
 "nbformat": 4,
 "nbformat_minor": 2
}
