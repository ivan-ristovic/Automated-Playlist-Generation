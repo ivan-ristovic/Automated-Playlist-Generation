{
 "cells": [
  {
   "cell_type": "markdown",
   "metadata": {},
   "source": [
    "# Neural network models"
   ]
  },
  {
   "cell_type": "code",
   "execution_count": null,
   "metadata": {},
   "outputs": [],
   "source": []
  },
  {
   "cell_type": "markdown",
   "metadata": {},
   "source": [
    "## Nececary imports"
   ]
  },
  {
   "cell_type": "code",
   "execution_count": 1,
   "metadata": {},
   "outputs": [],
   "source": [
    "from ipynb.fs.full.Utils import load_dataset, scale_data, split_data\n",
    "import numpy as np\n",
    "import pandas as pd\n",
    "from matplotlib import pyplot as plt"
   ]
  },
  {
   "cell_type": "code",
   "execution_count": 2,
   "metadata": {},
   "outputs": [
    {
     "name": "stderr",
     "output_type": "stream",
     "text": [
      "/opt/anaconda/lib/python3.6/site-packages/h5py/__init__.py:36: FutureWarning: Conversion of the second argument of issubdtype from `float` to `np.floating` is deprecated. In future, it will be treated as `np.float64 == np.dtype(float).type`.\n",
      "  from ._conv import register_converters as _register_converters\n",
      "Using TensorFlow backend.\n"
     ]
    }
   ],
   "source": [
    "from keras.models import Sequential\n",
    "from keras.layers import Dense, Activation\n",
    "from keras import losses, optimizers\n",
    "from keras.callbacks import EarlyStopping"
   ]
  },
  {
   "cell_type": "code",
   "execution_count": 3,
   "metadata": {},
   "outputs": [],
   "source": [
    "from sklearn import preprocessing\n",
    "from sklearn import datasets\n",
    "from sklearn import model_selection"
   ]
  },
  {
   "cell_type": "code",
   "execution_count": null,
   "metadata": {},
   "outputs": [],
   "source": []
  },
  {
   "cell_type": "markdown",
   "metadata": {},
   "source": [
    "## Loading the data"
   ]
  },
  {
   "cell_type": "code",
   "execution_count": 4,
   "metadata": {},
   "outputs": [],
   "source": [
    "df = load_dataset(split=False, scale=False)\n",
    "x = df.drop(['category'], axis=1)\n",
    "y = df['category']"
   ]
  },
  {
   "cell_type": "code",
   "execution_count": 5,
   "metadata": {},
   "outputs": [
    {
     "name": "stdout",
     "output_type": "stream",
     "text": [
      "classes:  14\n"
     ]
    }
   ],
   "source": [
    "number_of_classes = len(y.unique())\n",
    "print(\"classes: \", number_of_classes)"
   ]
  },
  {
   "cell_type": "code",
   "execution_count": 6,
   "metadata": {},
   "outputs": [],
   "source": [
    "# one hot encoding for categories\n",
    "y = pd.get_dummies(y)"
   ]
  },
  {
   "cell_type": "markdown",
   "metadata": {},
   "source": [
    "#### Podela na train_validation i test skup"
   ]
  },
  {
   "cell_type": "code",
   "execution_count": 7,
   "metadata": {},
   "outputs": [],
   "source": [
    "x_train_validation, x_test, y_train_validation, y_test = model_selection.train_test_split(x, y, train_size=0.7, \\\n",
    "                                                                            test_size=0.3, stratify=y)\n"
   ]
  },
  {
   "cell_type": "markdown",
   "metadata": {},
   "source": [
    "#### Podela na train i validation skup"
   ]
  },
  {
   "cell_type": "code",
   "execution_count": 8,
   "metadata": {},
   "outputs": [],
   "source": [
    "x_train, x_validation, y_train, y_validation = model_selection.train_test_split(x_train_validation, \\\n",
    "                            y_train_validation, test_size = 0.3, random_state = 42, stratify = y_train_validation)"
   ]
  },
  {
   "cell_type": "code",
   "execution_count": 9,
   "metadata": {},
   "outputs": [
    {
     "name": "stdout",
     "output_type": "stream",
     "text": [
      "Train:\t\t (10119, 14)\n",
      "Validation:\t (4338, 14)\n",
      "Test:\t\t (6196, 14)\n"
     ]
    }
   ],
   "source": [
    "print(\"Train:\\t\\t\", y_train.shape)\n",
    "print(\"Validation:\\t\", y_validation.shape)\n",
    "print(\"Test:\\t\\t\", y_test.shape)"
   ]
  },
  {
   "cell_type": "code",
   "execution_count": null,
   "metadata": {},
   "outputs": [],
   "source": []
  },
  {
   "cell_type": "markdown",
   "metadata": {},
   "source": [
    "## Creating the networks"
   ]
  },
  {
   "cell_type": "code",
   "execution_count": 10,
   "metadata": {},
   "outputs": [],
   "source": [
    "number_of_features = x_train.shape[1]\n",
    "output_size = number_of_classes"
   ]
  },
  {
   "cell_type": "code",
   "execution_count": null,
   "metadata": {},
   "outputs": [],
   "source": []
  },
  {
   "cell_type": "code",
   "execution_count": 11,
   "metadata": {},
   "outputs": [
    {
     "name": "stdout",
     "output_type": "stream",
     "text": [
      "_________________________________________________________________\n",
      "Layer (type)                 Output Shape              Param #   \n",
      "=================================================================\n",
      "dense_1 (Dense)              (None, 80)                2000      \n",
      "_________________________________________________________________\n",
      "dense_2 (Dense)              (None, 30)                2430      \n",
      "_________________________________________________________________\n",
      "dense_3 (Dense)              (None, 14)                434       \n",
      "=================================================================\n",
      "Total params: 4,864\n",
      "Trainable params: 4,864\n",
      "Non-trainable params: 0\n",
      "_________________________________________________________________\n"
     ]
    }
   ],
   "source": [
    "model1 = Sequential()\n",
    "model1.add(Dense(units = 80, input_dim = number_of_features, activation = 'relu'))\n",
    "model1.add(Dense(units=30, activation='relu'))\n",
    "model1.add(Dense(units = output_size, activation='softmax'))\n",
    "model1.compile(optimizer='adam', loss=losses.binary_crossentropy, metrics=['accuracy'])\n",
    "model1.summary()"
   ]
  },
  {
   "cell_type": "code",
   "execution_count": null,
   "metadata": {},
   "outputs": [],
   "source": []
  },
  {
   "cell_type": "code",
   "execution_count": 12,
   "metadata": {},
   "outputs": [
    {
     "name": "stdout",
     "output_type": "stream",
     "text": [
      "_________________________________________________________________\n",
      "Layer (type)                 Output Shape              Param #   \n",
      "=================================================================\n",
      "dense_4 (Dense)              (None, 100)               2500      \n",
      "_________________________________________________________________\n",
      "dense_5 (Dense)              (None, 40)                4040      \n",
      "_________________________________________________________________\n",
      "dense_6 (Dense)              (None, 40)                1640      \n",
      "_________________________________________________________________\n",
      "dense_7 (Dense)              (None, 14)                574       \n",
      "=================================================================\n",
      "Total params: 8,754\n",
      "Trainable params: 8,754\n",
      "Non-trainable params: 0\n",
      "_________________________________________________________________\n"
     ]
    }
   ],
   "source": [
    "model2 = Sequential()\n",
    "model2.add(Dense(units = 100, input_dim = number_of_features, activation = 'relu'))\n",
    "model2.add(Dense(units=40, activation='relu'))\n",
    "model2.add(Dense(units=40, activation='relu'))\n",
    "model2.add(Dense(units = output_size, activation='softmax'))\n",
    "model2.compile(optimizer='adam', loss=losses.binary_crossentropy, metrics=['accuracy'])\n",
    "model2.summary()"
   ]
  },
  {
   "cell_type": "code",
   "execution_count": null,
   "metadata": {},
   "outputs": [],
   "source": []
  },
  {
   "cell_type": "code",
   "execution_count": 13,
   "metadata": {},
   "outputs": [
    {
     "name": "stdout",
     "output_type": "stream",
     "text": [
      "_________________________________________________________________\n",
      "Layer (type)                 Output Shape              Param #   \n",
      "=================================================================\n",
      "dense_1 (Dense)              (None, 80)                2000      \n",
      "_________________________________________________________________\n",
      "dense_2 (Dense)              (None, 30)                2430      \n",
      "_________________________________________________________________\n",
      "dense_3 (Dense)              (None, 14)                434       \n",
      "=================================================================\n",
      "Total params: 4,864\n",
      "Trainable params: 4,864\n",
      "Non-trainable params: 0\n",
      "_________________________________________________________________\n"
     ]
    }
   ],
   "source": [
    "model3 = Sequential()\n",
    "model3.add(Dense(units = 150, input_dim = number_of_features, activation = 'relu'))\n",
    "model3.add(Dense(units=80, activation='relu'))\n",
    "model3.add(Dense(units=40, activation='relu'))\n",
    "model3.add(Dense(units=20, activation='sigmoid'))\n",
    "model3.add(Dense(units = output_size, activation='softmax'))\n",
    "model3.compile(optimizer='adam', loss=losses.binary_crossentropy, metrics=['accuracy'])\n",
    "model1.summary()"
   ]
  },
  {
   "cell_type": "code",
   "execution_count": null,
   "metadata": {},
   "outputs": [],
   "source": []
  },
  {
   "cell_type": "code",
   "execution_count": 14,
   "metadata": {},
   "outputs": [
    {
     "name": "stdout",
     "output_type": "stream",
     "text": [
      "_________________________________________________________________\n",
      "Layer (type)                 Output Shape              Param #   \n",
      "=================================================================\n",
      "dense_13 (Dense)             (None, 120)               3000      \n",
      "_________________________________________________________________\n",
      "dense_14 (Dense)             (None, 100)               12100     \n",
      "_________________________________________________________________\n",
      "dense_15 (Dense)             (None, 90)                9090      \n",
      "_________________________________________________________________\n",
      "dense_16 (Dense)             (None, 100)               9100      \n",
      "_________________________________________________________________\n",
      "dense_17 (Dense)             (None, 70)                7070      \n",
      "_________________________________________________________________\n",
      "dense_18 (Dense)             (None, 30)                2130      \n",
      "_________________________________________________________________\n",
      "dense_19 (Dense)             (None, 14)                434       \n",
      "=================================================================\n",
      "Total params: 42,924\n",
      "Trainable params: 42,924\n",
      "Non-trainable params: 0\n",
      "_________________________________________________________________\n"
     ]
    }
   ],
   "source": [
    "model4 = Sequential()\n",
    "model4.add(Dense(units = 120, input_dim = number_of_features, activation = 'relu'))\n",
    "model4.add(Dense(units=100, activation='relu'))\n",
    "model4.add(Dense(units=90, activation='relu'))\n",
    "model4.add(Dense(units=100, activation='relu'))\n",
    "model4.add(Dense(units=70, activation='relu'))\n",
    "model4.add(Dense(units=30, activation='sigmoid'))\n",
    "model4.add(Dense(units = output_size, activation='softmax'))\n",
    "model4.compile(optimizer='sgd', loss=losses.binary_crossentropy, metrics=['accuracy'])\n",
    "model4.summary()"
   ]
  },
  {
   "cell_type": "code",
   "execution_count": null,
   "metadata": {},
   "outputs": [],
   "source": []
  },
  {
   "cell_type": "code",
   "execution_count": 15,
   "metadata": {},
   "outputs": [
    {
     "name": "stdout",
     "output_type": "stream",
     "text": [
      "_________________________________________________________________\n",
      "Layer (type)                 Output Shape              Param #   \n",
      "=================================================================\n",
      "dense_20 (Dense)             (None, 200)               5000      \n",
      "_________________________________________________________________\n",
      "dense_21 (Dense)             (None, 100)               20100     \n",
      "_________________________________________________________________\n",
      "dense_22 (Dense)             (None, 100)               10100     \n",
      "_________________________________________________________________\n",
      "dense_23 (Dense)             (None, 70)                7070      \n",
      "_________________________________________________________________\n",
      "dense_24 (Dense)             (None, 34)                2414      \n",
      "_________________________________________________________________\n",
      "dense_25 (Dense)             (None, 14)                490       \n",
      "=================================================================\n",
      "Total params: 45,174\n",
      "Trainable params: 45,174\n",
      "Non-trainable params: 0\n",
      "_________________________________________________________________\n"
     ]
    }
   ],
   "source": [
    "model5 = Sequential()\n",
    "model5.add(Dense(units = 200, input_dim = number_of_features, activation = 'relu'))\n",
    "model5.add(Dense(units=100, activation='relu'))\n",
    "model5.add(Dense(units=100, activation='relu'))\n",
    "model5.add(Dense(units=70, activation='relu'))\n",
    "model5.add(Dense(units=34, activation='sigmoid'))\n",
    "model5.add(Dense(units = output_size, activation='softmax'))\n",
    "model5.compile(optimizer='adam', loss=losses.binary_crossentropy, metrics=['accuracy'])\n",
    "model5.summary()"
   ]
  },
  {
   "cell_type": "code",
   "execution_count": null,
   "metadata": {},
   "outputs": [],
   "source": []
  },
  {
   "cell_type": "markdown",
   "metadata": {},
   "source": [
    "## Training the networks"
   ]
  },
  {
   "cell_type": "code",
   "execution_count": 16,
   "metadata": {},
   "outputs": [],
   "source": [
    "history1 = model1.fit(x_train, y_train, epochs=30, batch_size=32, verbose=0, validation_split=0.3)"
   ]
  },
  {
   "cell_type": "code",
   "execution_count": 17,
   "metadata": {},
   "outputs": [],
   "source": [
    "history2 = model2.fit(x_train, y_train, epochs=30, batch_size=64, verbose=0, validation_split=0.3, \\\n",
    "                    callbacks=[EarlyStopping(patience=8)])"
   ]
  },
  {
   "cell_type": "code",
   "execution_count": 18,
   "metadata": {},
   "outputs": [],
   "source": [
    "history3 = model3.fit(x_train, y_train, epochs=30, batch_size=32, verbose=0, validation_split=0.3, \\\n",
    "                    callbacks=[EarlyStopping(patience=10)])"
   ]
  },
  {
   "cell_type": "code",
   "execution_count": 19,
   "metadata": {},
   "outputs": [],
   "source": [
    "history4 = model4.fit(x_train, y_train, epochs=30, batch_size=64, verbose=0, validation_split=0.3, \\\n",
    "                    callbacks=[EarlyStopping(patience=15)])"
   ]
  },
  {
   "cell_type": "code",
   "execution_count": 20,
   "metadata": {},
   "outputs": [],
   "source": [
    "history5 = model5.fit(x_train, y_train, epochs=30, batch_size=128, verbose=0, validation_split=0.3, \\\n",
    "                    callbacks=[EarlyStopping(patience=5)])"
   ]
  },
  {
   "cell_type": "markdown",
   "metadata": {},
   "source": [
    "## Model characteristics"
   ]
  },
  {
   "cell_type": "code",
   "execution_count": 21,
   "metadata": {},
   "outputs": [],
   "source": [
    "epochs1 = history1.epoch"
   ]
  },
  {
   "cell_type": "code",
   "execution_count": 22,
   "metadata": {},
   "outputs": [
    {
     "data": {
      "image/png": "[encoded data removed]",
      "text/plain": [
       "<Figure size 432x288 with 1 Axes>"
      ]
     },
     "metadata": {},
     "output_type": "display_data"
    }
   ],
   "source": [
    "loss = history1.history['loss']\n",
    "validation_loss = history1.history['val_loss']\n",
    "plt.title('Loss per epochs')\n",
    "plt.xlabel('epochs')\n",
    "plt.ylabel('loss')\n",
    "plt.plot(epochs1, loss, c='red', label='training')\n",
    "plt.plot(epochs1, validation_loss, c='orange', label='validation')\n",
    "plt.legend(loc='best')\n",
    "plt.show()"
   ]
  },
  {
   "cell_type": "code",
   "execution_count": 23,
   "metadata": {},
   "outputs": [
    {
     "data": {
      "image/png": "[encoded data removed]",
      "text/plain": [
       "<Figure size 432x288 with 1 Axes>"
      ]
     },
     "metadata": {},
     "output_type": "display_data"
    }
   ],
   "source": [
    "acc = history1.history['acc']\n",
    "validation_acc = history1.history['val_acc']\n",
    "plt.title('Accuracy per epochs')\n",
    "plt.xlabel('epochs')\n",
    "plt.ylabel('acc')\n",
    "plt.plot(epochs1, acc, c='red', label='training')\n",
    "plt.plot(epochs1, validation_acc, c='orange', label='validation')\n",
    "plt.legend(loc='best')\n",
    "plt.show()"
   ]
  },
  {
   "cell_type": "code",
   "execution_count": 24,
   "metadata": {},
   "outputs": [],
   "source": [
    "epochs2 = history2.epoch"
   ]
  },
  {
   "cell_type": "code",
   "execution_count": 25,
   "metadata": {},
   "outputs": [
    {
     "data": {
      "image/png": "[encoded data removed]",
      "text/plain": [
       "<Figure size 432x288 with 1 Axes>"
      ]
     },
     "metadata": {},
     "output_type": "display_data"
    }
   ],
   "source": [
    "loss = history2.history['loss']\n",
    "validation_loss = history2.history['val_loss']\n",
    "plt.title('Loss per epochs')\n",
    "plt.xlabel('epochs')\n",
    "plt.ylabel('loss')\n",
    "plt.plot(epochs2, loss, c='red', label='training')\n",
    "plt.plot(epochs2, validation_loss, c='orange', label='validation')\n",
    "plt.legend(loc='best')\n",
    "plt.show()"
   ]
  },
  {
   "cell_type": "code",
   "execution_count": 26,
   "metadata": {},
   "outputs": [
    {
     "data": {
      "image/png": "[encoded data removed]",
      "text/plain": [
       "<Figure size 432x288 with 1 Axes>"
      ]
     },
     "metadata": {},
     "output_type": "display_data"
    }
   ],
   "source": [
    "acc = history2.history['acc']\n",
    "validation_acc = history2.history['val_acc']\n",
    "plt.title('Accuracy per epochs')\n",
    "plt.xlabel('epochs')\n",
    "plt.ylabel('acc')\n",
    "plt.plot(epochs2, acc, c='red', label='training')\n",
    "plt.plot(epochs2, validation_acc, c='orange', label='validation')\n",
    "plt.legend(loc='best')\n",
    "plt.show()"
   ]
  },
  {
   "cell_type": "code",
   "execution_count": null,
   "metadata": {},
   "outputs": [],
   "source": []
  },
  {
   "cell_type": "code",
   "execution_count": 27,
   "metadata": {},
   "outputs": [],
   "source": [
    "epochs3 = history3.epoch"
   ]
  },
  {
   "cell_type": "code",
   "execution_count": 28,
   "metadata": {},
   "outputs": [
    {
     "data": {
      "image/png": "[encoded data removed]",
      "text/plain": [
       "<Figure size 432x288 with 1 Axes>"
      ]
     },
     "metadata": {},
     "output_type": "display_data"
    }
   ],
   "source": [
    "loss = history3.history['loss']\n",
    "validation_loss = history3.history['val_loss']\n",
    "plt.title('Loss per epochs')\n",
    "plt.xlabel('epochs')\n",
    "plt.ylabel('loss')\n",
    "plt.plot(epochs3, loss, c='red', label='training')\n",
    "plt.plot(epochs3, validation_loss, c='orange', label='validation')\n",
    "plt.legend(loc='best')\n",
    "plt.show()"
   ]
  },
  {
   "cell_type": "code",
   "execution_count": 29,
   "metadata": {},
   "outputs": [
    {
     "data": {
      "image/png": "[encoded data removed]",
      "text/plain": [
       "<Figure size 432x288 with 1 Axes>"
      ]
     },
     "metadata": {},
     "output_type": "display_data"
    }
   ],
   "source": [
    "acc = history3.history['acc']\n",
    "validation_acc = history3.history['val_acc']\n",
    "plt.title('Accuracy per epochs')\n",
    "plt.xlabel('epochs')\n",
    "plt.ylabel('acc')\n",
    "plt.plot(epochs3, acc, c='red', label='training')\n",
    "plt.plot(epochs3, validation_acc, c='orange', label='validation')\n",
    "plt.legend(loc='best')\n",
    "plt.show()"
   ]
  },
  {
   "cell_type": "code",
   "execution_count": null,
   "metadata": {},
   "outputs": [],
   "source": []
  },
  {
   "cell_type": "code",
   "execution_count": 30,
   "metadata": {},
   "outputs": [],
   "source": [
    "epochs4 = history4.epoch"
   ]
  },
  {
   "cell_type": "code",
   "execution_count": 31,
   "metadata": {},
   "outputs": [
    {
     "data": {
      "image/png": "[encoded data removed]",
      "text/plain": [
       "<Figure size 432x288 with 1 Axes>"
      ]
     },
     "metadata": {},
     "output_type": "display_data"
    }
   ],
   "source": [
    "loss = history4.history['loss']\n",
    "validation_loss = history4.history['val_loss']\n",
    "plt.title('Loss per epochs')\n",
    "plt.xlabel('epochs')\n",
    "plt.ylabel('loss')\n",
    "plt.plot(epochs4, loss, c='red', label='training')\n",
    "plt.plot(epochs4, validation_loss, c='orange', label='validation')\n",
    "plt.legend(loc='best')\n",
    "plt.show()"
   ]
  },
  {
   "cell_type": "code",
   "execution_count": 32,
   "metadata": {},
   "outputs": [
    {
     "data": {
      "image/png": "[encoded data removed]",
      "text/plain": [
       "<Figure size 432x288 with 1 Axes>"
      ]
     },
     "metadata": {},
     "output_type": "display_data"
    }
   ],
   "source": [
    "acc = history4.history['acc']\n",
    "validation_acc = history4.history['val_acc']\n",
    "plt.title('Accuracy per epochs')\n",
    "plt.xlabel('epochs')\n",
    "plt.ylabel('acc')\n",
    "plt.plot(epochs4, acc, c='red', label='training')\n",
    "plt.plot(epochs4, validation_acc, c='orange', label='validation')\n",
    "plt.legend(loc='best')\n",
    "plt.show()"
   ]
  },
  {
   "cell_type": "code",
   "execution_count": 33,
   "metadata": {},
   "outputs": [],
   "source": [
    "epochs5 = history5.epoch"
   ]
  },
  {
   "cell_type": "code",
   "execution_count": 34,
   "metadata": {},
   "outputs": [
    {
     "data": {
      "image/png": "[encoded data removed]",
      "text/plain": [
       "<Figure size 432x288 with 1 Axes>"
      ]
     },
     "metadata": {},
     "output_type": "display_data"
    }
   ],
   "source": [
    "loss = history5.history['loss']\n",
    "validation_loss = history5.history['val_loss']\n",
    "plt.title('Loss per epochs')\n",
    "plt.xlabel('epochs')\n",
    "plt.ylabel('loss')\n",
    "plt.plot(epochs5, loss, c='red', label='training')\n",
    "plt.plot(epochs5, validation_loss, c='orange', label='validation')\n",
    "plt.legend(loc='best')\n",
    "plt.show()"
   ]
  },
  {
   "cell_type": "code",
   "execution_count": 35,
   "metadata": {},
   "outputs": [
    {
     "data": {
      "image/png": "[encoded data removed]",
      "text/plain": [
       "<Figure size 432x288 with 1 Axes>"
      ]
     },
     "metadata": {},
     "output_type": "display_data"
    }
   ],
   "source": [
    "acc = history5.history['acc']\n",
    "validation_acc = history5.history['val_acc']\n",
    "plt.title('Accuracy per epochs')\n",
    "plt.xlabel('epochs')\n",
    "plt.ylabel('acc')\n",
    "plt.plot(epochs5, acc, c='red', label='training')\n",
    "plt.plot(epochs5, validation_acc, c='orange', label='validation')\n",
    "plt.legend(loc='best')\n",
    "plt.show()"
   ]
  },
  {
   "cell_type": "code",
   "execution_count": null,
   "metadata": {},
   "outputs": [],
   "source": []
  },
  {
   "cell_type": "markdown",
   "metadata": {},
   "source": [
    "## Evaluation"
   ]
  },
  {
   "cell_type": "code",
   "execution_count": 36,
   "metadata": {},
   "outputs": [],
   "source": [
    "accs = []\n",
    "models = [model1, model2, model3, model4, model5]"
   ]
  },
  {
   "cell_type": "code",
   "execution_count": 37,
   "metadata": {},
   "outputs": [
    {
     "name": "stdout",
     "output_type": "stream",
     "text": [
      "10119/10119 [==============================] - 1s 131us/step\n",
      "0 Train loss: 2.206751904311841, Train accuracy: 0.862338207193085\n",
      "10119/10119 [==============================] - 1s 136us/step\n",
      "1 Train loss: 2.1884207596290204, Train accuracy: 0.8634817424246016\n",
      "10119/10119 [==============================] - 2s 151us/step\n",
      "2 Train loss: 0.2063268286733126, Train accuracy: 0.9285713434631686\n",
      "10119/10119 [==============================] - 2s 174us/step\n",
      "3 Train loss: 0.20663769746241403, Train accuracy: 0.9285713434631686\n",
      "10119/10119 [==============================] - 2s 166us/step\n",
      "4 Train loss: 0.20636280714193225, Train accuracy: 0.9285713434631686\n"
     ]
    }
   ],
   "source": [
    "# evaluacija mreza na trening skupu\n",
    "i = 0\n",
    "for model in models:\n",
    "    train_loss, train_acc = model.evaluate(x_train, y_train)\n",
    "    print (\"{} Train loss: {}, Train accuracy: {}\".format(i, train_loss, train_acc))\n",
    "    i += 1"
   ]
  },
  {
   "cell_type": "code",
   "execution_count": 38,
   "metadata": {},
   "outputs": [
    {
     "name": "stdout",
     "output_type": "stream",
     "text": [
      "4338/4338 [==============================] - 1s 130us/step\n",
      "0 Validation loss: 2.207153657330187, validation accuracy: 0.8623131445994185\n",
      "4338/4338 [==============================] - 1s 142us/step\n",
      "1 Validation loss: 2.188149232257616, validation accuracy: 0.8634986758451959\n",
      "4338/4338 [==============================] - 1s 149us/step\n",
      "2 Validation loss: 0.20631468237655512, validation accuracy: 0.9285713436692582\n",
      "4338/4338 [==============================] - 1s 171us/step\n",
      "3 Validation loss: 0.2066287562257961, validation accuracy: 0.9285713436692582\n",
      "4338/4338 [==============================] - 1s 161us/step\n",
      "4 Validation loss: 0.20635106199867112, validation accuracy: 0.9285713436692582\n"
     ]
    }
   ],
   "source": [
    "# evaluacija mreza na validation skupu\n",
    "i = 0\n",
    "for model in models:\n",
    "    val_loss, val_acc = model.evaluate(x_validation, y_validation)\n",
    "    print (\"{} Validation loss: {}, validation accuracy: {}\".format(i, val_loss, val_acc))\n",
    "    accs.append(val_acc)\n",
    "    i += 1"
   ]
  },
  {
   "cell_type": "markdown",
   "metadata": {},
   "source": [
    "### Izbor najbolje mreze"
   ]
  },
  {
   "cell_type": "code",
   "execution_count": 39,
   "metadata": {},
   "outputs": [],
   "source": [
    "best_acc_ind = np.argmax(accs)"
   ]
  },
  {
   "cell_type": "code",
   "execution_count": 40,
   "metadata": {},
   "outputs": [
    {
     "name": "stdout",
     "output_type": "stream",
     "text": [
      "The best model is model 3\n",
      "The best model accuracy:  0.9285713436692582\n"
     ]
    }
   ],
   "source": [
    "print(\"The best model is model\", best_acc_ind + 1)\n",
    "print(\"The best model accuracy: \", np.max(accs))"
   ]
  },
  {
   "cell_type": "code",
   "execution_count": 41,
   "metadata": {},
   "outputs": [],
   "source": [
    "best_model = models[best_acc_ind]"
   ]
  },
  {
   "cell_type": "code",
   "execution_count": null,
   "metadata": {},
   "outputs": [],
   "source": []
  },
  {
   "cell_type": "code",
   "execution_count": 42,
   "metadata": {},
   "outputs": [],
   "source": [
    "best_model_history = best_model.fit(x, y, batch_size=32, verbose=0, \\\n",
    "                    validation_split=0.3, callbacks=[EarlyStopping(patience=4)])"
   ]
  },
  {
   "cell_type": "code",
   "execution_count": 43,
   "metadata": {},
   "outputs": [
    {
     "name": "stdout",
     "output_type": "stream",
     "text": [
      "      danceability  energy  loudness  mode  speechiness  acousticness  \\\n",
      "5319          0.29  0.0615   -18.003     1       0.0391         0.981   \n",
      "\n",
      "      instrumentalness  liveness  valence    tempo ...  B  C  C#  D  D#  E  F  \\\n",
      "5319             0.831     0.121    0.345  164.594 ...  0  0   0  0   0  0  0   \n",
      "\n",
      "      F#  G  G#  \n",
      "5319   0  1   0  \n",
      "\n",
      "[1 rows x 24 columns]\n",
      "      chill  classical  country  hiphop  indie_alt  jazz  latin  metal  party  \\\n",
      "5319      1          0        0       0          0     0      0      0      0   \n",
      "\n",
      "      pop  punk  rnb  rock  workout  \n",
      "5319    0     0    0     0        0  \n"
     ]
    }
   ],
   "source": [
    "print(x_test[42:43])\n",
    "print(y_test[42:43])"
   ]
  },
  {
   "cell_type": "code",
   "execution_count": 44,
   "metadata": {},
   "outputs": [],
   "source": [
    "y_predicted = best_model.predict(x_test[42:43])"
   ]
  },
  {
   "cell_type": "code",
   "execution_count": 45,
   "metadata": {},
   "outputs": [
    {
     "data": {
      "text/plain": [
       "'chill'"
      ]
     },
     "execution_count": 45,
     "metadata": {},
     "output_type": "execute_result"
    }
   ],
   "source": [
    "categories = y_test.columns\n",
    "# model je ispravno pogodio?\n",
    "categories[np.argmax(y_predicted)]"
   ]
  },
  {
   "cell_type": "code",
   "execution_count": null,
   "metadata": {},
   "outputs": [],
   "source": []
  },
  {
   "cell_type": "code",
   "execution_count": 46,
   "metadata": {},
   "outputs": [],
   "source": [
    "best_model.save(\"classifier.h5\")"
   ]
  },
  {
   "cell_type": "code",
   "execution_count": null,
   "metadata": {},
   "outputs": [],
   "source": []
  }
 ],
 "metadata": {
  "kernelspec": {
   "display_name": "Python 3",
   "language": "python",
   "name": "python3"
  },
  "language_info": {
   "codemirror_mode": {
    "name": "ipython",
    "version": 3
   },
   "file_extension": ".py",
   "mimetype": "text/x-python",
   "name": "python",
   "nbconvert_exporter": "python",
   "pygments_lexer": "ipython3",
   "version": "3.6.5"
  }
 },
 "nbformat": 4,
 "nbformat_minor": 2
}
