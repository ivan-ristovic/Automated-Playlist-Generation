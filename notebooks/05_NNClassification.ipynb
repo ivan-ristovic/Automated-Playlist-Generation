{
 "cells": [
  {
   "cell_type": "code",
   "execution_count": 1,
   "metadata": {},
   "outputs": [],
   "source": [
    "from ipynb.fs.full.Utils import load_dataset, scale_data\n",
    "import numpy as np\n",
    "from matplotlib import pyplot as plt"
   ]
  },
  {
   "cell_type": "code",
   "execution_count": 2,
   "metadata": {},
   "outputs": [
    {
     "name": "stderr",
     "output_type": "stream",
     "text": [
      "/home/ivan/anaconda3/lib/python3.6/site-packages/h5py/__init__.py:36: FutureWarning: Conversion of the second argument of issubdtype from `float` to `np.floating` is deprecated. In future, it will be treated as `np.float64 == np.dtype(float).type`.\n",
      "  from ._conv import register_converters as _register_converters\n",
      "Using TensorFlow backend.\n"
     ]
    }
   ],
   "source": [
    "from keras.models import Sequential\n",
    "from keras.layers import Dense, Activation\n",
    "from keras import losses, optimizers\n",
    "from keras.callbacks import EarlyStopping"
   ]
  },
  {
   "cell_type": "code",
   "execution_count": 3,
   "metadata": {},
   "outputs": [],
   "source": [
    "from sklearn import preprocessing\n",
    "from sklearn import datasets\n",
    "from sklearn import model_selection"
   ]
  },
  {
   "cell_type": "code",
   "execution_count": null,
   "metadata": {},
   "outputs": [],
   "source": []
  },
  {
   "cell_type": "code",
   "execution_count": 5,
   "metadata": {},
   "outputs": [],
   "source": [
    "df = load_dataset(split=False)"
   ]
  },
  {
   "cell_type": "code",
   "execution_count": 6,
   "metadata": {},
   "outputs": [],
   "source": [
    "metal = df[df.category == 'metal']\n",
    "country = df[df.category == 'country']\n",
    "df = metal.append(country)"
   ]
  },
  {
   "cell_type": "code",
   "execution_count": 7,
   "metadata": {},
   "outputs": [
    {
     "data": {
      "text/plain": [
       "(1521, 25)"
      ]
     },
     "execution_count": 7,
     "metadata": {},
     "output_type": "execute_result"
    }
   ],
   "source": [
    "df.shape"
   ]
  },
  {
   "cell_type": "code",
   "execution_count": 8,
   "metadata": {},
   "outputs": [],
   "source": [
    "x = df.drop(['category'], axis=1)\n",
    "y = df['category']"
   ]
  },
  {
   "cell_type": "code",
   "execution_count": 9,
   "metadata": {},
   "outputs": [],
   "source": [
    "y = (y == 'country') + 0"
   ]
  },
  {
   "cell_type": "code",
   "execution_count": 10,
   "metadata": {},
   "outputs": [
    {
     "name": "stdout",
     "output_type": "stream",
     "text": [
      "Country songs:  771\n",
      "Metal songs:  750\n"
     ]
    }
   ],
   "source": [
    "countries = np.sum(y == 1)\n",
    "metals = np.sum(y == 0)\n",
    "print(\"Country songs: \", countries)\n",
    "print(\"Metal songs: \", metals)"
   ]
  },
  {
   "cell_type": "code",
   "execution_count": 11,
   "metadata": {},
   "outputs": [],
   "source": [
    "x_train, x_test, y_train, y_test = model_selection.train_test_split(x, \\\n",
    "                                                                    y, \\\n",
    "                                                                    train_size=0.7, \\\n",
    "                                                                    test_size=0.3, \\\n",
    "                                                                    stratify=y, \\\n",
    "                                                                    random_state=42)"
   ]
  },
  {
   "cell_type": "code",
   "execution_count": 12,
   "metadata": {},
   "outputs": [],
   "source": [
    "def one_hot(y, C):\n",
    "    y_one_hot = np.zeros((y.shape[0], C))\n",
    "    y_one_hot[np.arange(0, y.shape[0]), y] = 1\n",
    "    \n",
    "    return y_one_hot"
   ]
  },
  {
   "cell_type": "code",
   "execution_count": 13,
   "metadata": {},
   "outputs": [],
   "source": [
    "number_of_classes = len(y.unique())\n",
    "y_train = one_hot(y_train, number_of_classes)\n",
    "y_test = one_hot(y_test, number_of_classes)"
   ]
  },
  {
   "cell_type": "code",
   "execution_count": 14,
   "metadata": {},
   "outputs": [
    {
     "data": {
      "text/plain": [
       "(457, 2)"
      ]
     },
     "execution_count": 14,
     "metadata": {},
     "output_type": "execute_result"
    }
   ],
   "source": [
    "y_train.shape\n",
    "y_test.shape"
   ]
  },
  {
   "cell_type": "code",
   "execution_count": 15,
   "metadata": {},
   "outputs": [
    {
     "data": {
      "text/plain": [
       "(1064, 24)"
      ]
     },
     "execution_count": 15,
     "metadata": {},
     "output_type": "execute_result"
    }
   ],
   "source": [
    "x_train.shape"
   ]
  },
  {
   "cell_type": "code",
   "execution_count": null,
   "metadata": {},
   "outputs": [],
   "source": []
  },
  {
   "cell_type": "code",
   "execution_count": 16,
   "metadata": {},
   "outputs": [],
   "source": [
    "number_of_features = x_train.shape[1]\n",
    "output_size = number_of_classes"
   ]
  },
  {
   "cell_type": "code",
   "execution_count": 17,
   "metadata": {},
   "outputs": [],
   "source": [
    "x_train, x_test = scale_data(x_train, x_test)"
   ]
  },
  {
   "cell_type": "code",
   "execution_count": null,
   "metadata": {},
   "outputs": [],
   "source": []
  },
  {
   "cell_type": "code",
   "execution_count": 18,
   "metadata": {},
   "outputs": [],
   "source": [
    "model = Sequential()"
   ]
  },
  {
   "cell_type": "code",
   "execution_count": 19,
   "metadata": {},
   "outputs": [],
   "source": [
    "model.add(Dense(units = 60, input_dim = number_of_features, activation = 'relu'))"
   ]
  },
  {
   "cell_type": "code",
   "execution_count": 20,
   "metadata": {},
   "outputs": [],
   "source": [
    "model.add(Dense(units=30, activation='relu'))"
   ]
  },
  {
   "cell_type": "code",
   "execution_count": 21,
   "metadata": {},
   "outputs": [],
   "source": [
    "model.add(Dense(units = output_size, activation='softmax'))"
   ]
  },
  {
   "cell_type": "code",
   "execution_count": 22,
   "metadata": {},
   "outputs": [],
   "source": [
    "model.compile(optimizer='adam', loss=losses.binary_crossentropy, metrics=['accuracy'])"
   ]
  },
  {
   "cell_type": "code",
   "execution_count": 23,
   "metadata": {},
   "outputs": [
    {
     "name": "stdout",
     "output_type": "stream",
     "text": [
      "_________________________________________________________________\n",
      "Layer (type)                 Output Shape              Param #   \n",
      "=================================================================\n",
      "dense_1 (Dense)              (None, 60)                1500      \n",
      "_________________________________________________________________\n",
      "dense_2 (Dense)              (None, 30)                1830      \n",
      "_________________________________________________________________\n",
      "dense_3 (Dense)              (None, 2)                 62        \n",
      "=================================================================\n",
      "Total params: 3,392\n",
      "Trainable params: 3,392\n",
      "Non-trainable params: 0\n",
      "_________________________________________________________________\n"
     ]
    }
   ],
   "source": [
    "model.summary()"
   ]
  },
  {
   "cell_type": "code",
   "execution_count": 24,
   "metadata": {},
   "outputs": [
    {
     "name": "stdout",
     "output_type": "stream",
     "text": [
      "Train on 744 samples, validate on 320 samples\n",
      "Epoch 1/20\n",
      "744/744 [==============================] - 2s 3ms/step - loss: 0.6546 - acc: 0.6599 - val_loss: 0.4916 - val_acc: 0.8406\n",
      "Epoch 2/20\n",
      "744/744 [==============================] - 0s 638us/step - loss: 0.3967 - acc: 0.8858 - val_loss: 0.3303 - val_acc: 0.9031\n",
      "Epoch 3/20\n",
      "744/744 [==============================] - 0s 414us/step - loss: 0.2743 - acc: 0.9180 - val_loss: 0.2396 - val_acc: 0.9094\n",
      "Epoch 4/20\n",
      "744/744 [==============================] - 0s 405us/step - loss: 0.2121 - acc: 0.9301 - val_loss: 0.1978 - val_acc: 0.9094\n",
      "Epoch 5/20\n",
      "744/744 [==============================] - 0s 425us/step - loss: 0.1789 - acc: 0.9395 - val_loss: 0.1798 - val_acc: 0.9250\n",
      "Epoch 6/20\n",
      "744/744 [==============================] - 0s 453us/step - loss: 0.1617 - acc: 0.9395 - val_loss: 0.1690 - val_acc: 0.9250\n",
      "Epoch 7/20\n",
      "744/744 [==============================] - 0s 447us/step - loss: 0.1490 - acc: 0.9489 - val_loss: 0.1631 - val_acc: 0.9313\n",
      "Epoch 8/20\n",
      "744/744 [==============================] - 0s 461us/step - loss: 0.1360 - acc: 0.9489 - val_loss: 0.1583 - val_acc: 0.9281\n",
      "Epoch 9/20\n",
      "744/744 [==============================] - 0s 439us/step - loss: 0.1283 - acc: 0.9476 - val_loss: 0.1565 - val_acc: 0.9313\n",
      "Epoch 10/20\n",
      "744/744 [==============================] - 1s 748us/step - loss: 0.1196 - acc: 0.9570 - val_loss: 0.1532 - val_acc: 0.9344\n",
      "Epoch 11/20\n",
      "744/744 [==============================] - 0s 517us/step - loss: 0.1137 - acc: 0.9597 - val_loss: 0.1509 - val_acc: 0.9375\n",
      "Epoch 12/20\n",
      "744/744 [==============================] - 0s 434us/step - loss: 0.1067 - acc: 0.9610 - val_loss: 0.1483 - val_acc: 0.9437\n",
      "Epoch 13/20\n",
      "744/744 [==============================] - 0s 450us/step - loss: 0.1013 - acc: 0.9610 - val_loss: 0.1486 - val_acc: 0.9406\n",
      "Epoch 14/20\n",
      "744/744 [==============================] - 0s 466us/step - loss: 0.0974 - acc: 0.9597 - val_loss: 0.1456 - val_acc: 0.9344\n",
      "Epoch 15/20\n",
      "744/744 [==============================] - 0s 574us/step - loss: 0.0918 - acc: 0.9624 - val_loss: 0.1443 - val_acc: 0.9406\n",
      "Epoch 16/20\n",
      "744/744 [==============================] - 1s 732us/step - loss: 0.0880 - acc: 0.9637 - val_loss: 0.1438 - val_acc: 0.9469\n",
      "Epoch 17/20\n",
      "744/744 [==============================] - 0s 429us/step - loss: 0.0828 - acc: 0.9677 - val_loss: 0.1427 - val_acc: 0.9531\n",
      "Epoch 18/20\n",
      "744/744 [==============================] - 0s 472us/step - loss: 0.0796 - acc: 0.9624 - val_loss: 0.1420 - val_acc: 0.9437\n",
      "Epoch 19/20\n",
      "744/744 [==============================] - 0s 478us/step - loss: 0.0756 - acc: 0.9704 - val_loss: 0.1406 - val_acc: 0.9500\n",
      "Epoch 20/20\n",
      "744/744 [==============================] - 0s 457us/step - loss: 0.0723 - acc: 0.9704 - val_loss: 0.1404 - val_acc: 0.9500\n"
     ]
    }
   ],
   "source": [
    "history = model.fit(x_train, y_train, epochs= 20, batch_size=32, verbose=1, validation_split=0.3, \\\n",
    "                    callbacks=[EarlyStopping(patience=3)])"
   ]
  },
  {
   "cell_type": "code",
   "execution_count": 25,
   "metadata": {},
   "outputs": [],
   "source": [
    "epochs = history.epoch"
   ]
  },
  {
   "cell_type": "code",
   "execution_count": 26,
   "metadata": {},
   "outputs": [],
   "source": [
    "loss = history.history['loss']\n",
    "validation_loss = history.history['val_loss']"
   ]
  },
  {
   "cell_type": "code",
   "execution_count": 27,
   "metadata": {},
   "outputs": [
    {
     "data": {
      "text/plain": [
       "<matplotlib.legend.Legend at 0x7efba0309160>"
      ]
     },
     "execution_count": 27,
     "metadata": {},
     "output_type": "execute_result"
    },
    {
     "data": {
      "image/png": "[encoded data removed]",
      "text/plain": [
       "<Figure size 432x288 with 1 Axes>"
      ]
     },
     "metadata": {},
     "output_type": "display_data"
    }
   ],
   "source": [
    "plt.xlabel('epochs')\n",
    "plt.ylabel('loss')\n",
    "plt.plot(epochs, loss, c='red', label='training')\n",
    "plt.plot(epochs, validation_loss, c='orange', label='validation')\n",
    "plt.legend(loc='best')"
   ]
  },
  {
   "cell_type": "code",
   "execution_count": 28,
   "metadata": {},
   "outputs": [],
   "source": [
    "acc = history.history['acc']\n",
    "validation_acc = history.history['val_acc']"
   ]
  },
  {
   "cell_type": "code",
   "execution_count": 29,
   "metadata": {},
   "outputs": [
    {
     "data": {
      "text/plain": [
       "<matplotlib.legend.Legend at 0x7efba0217860>"
      ]
     },
     "execution_count": 29,
     "metadata": {},
     "output_type": "execute_result"
    },
    {
     "data": {
      "image/png": "[encoded data removed]",
      "text/plain": [
       "<Figure size 432x288 with 1 Axes>"
      ]
     },
     "metadata": {},
     "output_type": "display_data"
    }
   ],
   "source": [
    "plt.xlabel('epochs')\n",
    "plt.ylabel('acc')\n",
    "plt.plot(epochs, acc, c='red', label='training')\n",
    "plt.plot(epochs, validation_acc, c='orange', label='validation')\n",
    "plt.legend(loc='best')"
   ]
  },
  {
   "cell_type": "code",
   "execution_count": 30,
   "metadata": {},
   "outputs": [
    {
     "name": "stdout",
     "output_type": "stream",
     "text": [
      "457/457 [==============================] - 0s 178us/step\n",
      "Test loss: 0.1636981233237087, test accuracy: 0.9387308533916849\n"
     ]
    }
   ],
   "source": [
    "# evaluacija mreze\n",
    "test_loss, test_acc = model.evaluate(x_test, y_test)\n",
    "print (\"Test loss: {}, test accuracy: {}\".format(test_loss, test_acc))"
   ]
  },
  {
   "cell_type": "code",
   "execution_count": null,
   "metadata": {},
   "outputs": [],
   "source": []
  },
  {
   "cell_type": "code",
   "execution_count": 31,
   "metadata": {},
   "outputs": [],
   "source": [
    "#model.fit(x_train, y_train, epochs=7, batch_size=32)"
   ]
  },
  {
   "cell_type": "code",
   "execution_count": 32,
   "metadata": {},
   "outputs": [
    {
     "name": "stdout",
     "output_type": "stream",
     "text": [
      "[[-1.0672969   0.71002017  0.63526316 -1.63757775  0.21978416 -0.64924084\n",
      "  -0.21675755  0.00553326 -0.73099352  1.14146396 -0.57927533  0.18781949\n",
      "  -0.31851103 -0.24011263 -0.29277002 -0.29087376 -0.34299717 -0.32562111\n",
      "  -0.2220578  -0.31129924 -0.29840929 -0.30947948 -0.39084873  4.02011074]]\n",
      "[[1. 0.]]\n"
     ]
    }
   ],
   "source": [
    "print(x_test[1:2])\n",
    "print(y_test[1:2]) # metal"
   ]
  },
  {
   "cell_type": "code",
   "execution_count": 33,
   "metadata": {},
   "outputs": [
    {
     "data": {
      "text/plain": [
       "array([[0.9934378 , 0.00656221]], dtype=float32)"
      ]
     },
     "execution_count": 33,
     "metadata": {},
     "output_type": "execute_result"
    }
   ],
   "source": [
    "model.predict(x_test[1:2])"
   ]
  },
  {
   "cell_type": "code",
   "execution_count": 34,
   "metadata": {},
   "outputs": [],
   "source": [
    "# model je ispravno pogodio!"
   ]
  }
 ],
 "metadata": {
  "kernelspec": {
   "display_name": "Python 3",
   "language": "python",
   "name": "python3"
  },
  "language_info": {
   "codemirror_mode": {
    "name": "ipython",
    "version": 3
   },
   "file_extension": ".py",
   "mimetype": "text/x-python",
   "name": "python",
   "nbconvert_exporter": "python",
   "pygments_lexer": "ipython3",
   "version": "3.6.5"
  }
 },
 "nbformat": 4,
 "nbformat_minor": 2
}
