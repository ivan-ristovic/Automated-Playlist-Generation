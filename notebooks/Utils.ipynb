{
 "cells": [
  {
   "cell_type": "code",
   "execution_count": 5,
   "metadata": {},
   "outputs": [],
   "source": [
    "import numpy as np\n",
    "import pandas as pd"
   ]
  },
  {
   "cell_type": "code",
   "execution_count": 60,
   "metadata": {},
   "outputs": [],
   "source": [
    "# pip install ipynb"
   ]
  },
  {
   "cell_type": "code",
   "execution_count": 48,
   "metadata": {},
   "outputs": [],
   "source": [
    "def remove_uninformative_attrs(df):\n",
    "    newdf = df.drop(['id', 'track_name', 'album_uri', 'album_name', 'track_uri', \\\n",
    "                     'artist_name', 'album_release_date', 'album_img', 'key_mode'], axis=1)\n",
    "    return newdf"
   ]
  },
  {
   "cell_type": "code",
   "execution_count": 49,
   "metadata": {},
   "outputs": [],
   "source": [
    "def extract_year(dates):\n",
    "    return [date[0:4] for date in dates]"
   ]
  },
  {
   "cell_type": "code",
   "execution_count": 57,
   "metadata": {},
   "outputs": [],
   "source": [
    "def binarize_mode(modes):\n",
    "    return [0 if mode == 'minor' else 1 for mode in modes]"
   ]
  },
  {
   "cell_type": "code",
   "execution_count": 58,
   "metadata": {},
   "outputs": [],
   "source": [
    "def load_dataset(path='../dataset_generation/data/Music_Dataset.csv'):\n",
    "    df = pd.DataFrame(pd.read_csv(path))\n",
    "    df = remove_uninformative_attrs(df)\n",
    "    df['album_release_year'] = extract_year(df['album_release_year'])\n",
    "    df['mode'] = binarize_mode(df['mode'])\n",
    "    return df"
   ]
  },
  {
   "cell_type": "code",
   "execution_count": null,
   "metadata": {},
   "outputs": [],
   "source": []
  },
  {
   "cell_type": "code",
   "execution_count": 59,
   "metadata": {},
   "outputs": [
    {
     "data": {
      "text/html": [
       "<div>\n",
       "<style scoped>\n",
       "    .dataframe tbody tr th:only-of-type {\n",
       "        vertical-align: middle;\n",
       "    }\n",
       "\n",
       "    .dataframe tbody tr th {\n",
       "        vertical-align: top;\n",
       "    }\n",
       "\n",
       "    .dataframe thead th {\n",
       "        text-align: right;\n",
       "    }\n",
       "</style>\n",
       "<table border=\"1\" class=\"dataframe\">\n",
       "  <thead>\n",
       "    <tr style=\"text-align: right;\">\n",
       "      <th></th>\n",
       "      <th>album_release_year</th>\n",
       "      <th>album_popularity</th>\n",
       "      <th>danceability</th>\n",
       "      <th>energy</th>\n",
       "      <th>key</th>\n",
       "      <th>loudness</th>\n",
       "      <th>mode</th>\n",
       "      <th>speechiness</th>\n",
       "      <th>acousticness</th>\n",
       "      <th>instrumentalness</th>\n",
       "      <th>liveness</th>\n",
       "      <th>valence</th>\n",
       "      <th>tempo</th>\n",
       "      <th>duration_ms</th>\n",
       "      <th>time_signature</th>\n",
       "      <th>track_popularity</th>\n",
       "    </tr>\n",
       "  </thead>\n",
       "  <tbody>\n",
       "    <tr>\n",
       "      <th>0</th>\n",
       "      <td>1999</td>\n",
       "      <td>69</td>\n",
       "      <td>0.648</td>\n",
       "      <td>0.199</td>\n",
       "      <td>C#</td>\n",
       "      <td>-25.565</td>\n",
       "      <td>1</td>\n",
       "      <td>0.883</td>\n",
       "      <td>0.27500</td>\n",
       "      <td>0.000000</td>\n",
       "      <td>0.1360</td>\n",
       "      <td>0.950</td>\n",
       "      <td>149.548</td>\n",
       "      <td>33227</td>\n",
       "      <td>1</td>\n",
       "      <td>49</td>\n",
       "    </tr>\n",
       "    <tr>\n",
       "      <th>1</th>\n",
       "      <td>1999</td>\n",
       "      <td>69</td>\n",
       "      <td>0.869</td>\n",
       "      <td>0.680</td>\n",
       "      <td>C#</td>\n",
       "      <td>-6.233</td>\n",
       "      <td>1</td>\n",
       "      <td>0.318</td>\n",
       "      <td>0.04160</td>\n",
       "      <td>0.000001</td>\n",
       "      <td>0.0914</td>\n",
       "      <td>0.815</td>\n",
       "      <td>85.519</td>\n",
       "      <td>268400</td>\n",
       "      <td>4</td>\n",
       "      <td>73</td>\n",
       "    </tr>\n",
       "    <tr>\n",
       "      <th>2</th>\n",
       "      <td>1999</td>\n",
       "      <td>69</td>\n",
       "      <td>0.660</td>\n",
       "      <td>0.789</td>\n",
       "      <td>G</td>\n",
       "      <td>-5.143</td>\n",
       "      <td>1</td>\n",
       "      <td>0.364</td>\n",
       "      <td>0.05270</td>\n",
       "      <td>0.000000</td>\n",
       "      <td>0.3410</td>\n",
       "      <td>0.513</td>\n",
       "      <td>182.218</td>\n",
       "      <td>199333</td>\n",
       "      <td>4</td>\n",
       "      <td>66</td>\n",
       "    </tr>\n",
       "    <tr>\n",
       "      <th>3</th>\n",
       "      <td>1999</td>\n",
       "      <td>69</td>\n",
       "      <td>0.866</td>\n",
       "      <td>0.599</td>\n",
       "      <td>D</td>\n",
       "      <td>-7.903</td>\n",
       "      <td>1</td>\n",
       "      <td>0.163</td>\n",
       "      <td>0.00917</td>\n",
       "      <td>0.000000</td>\n",
       "      <td>0.0655</td>\n",
       "      <td>0.831</td>\n",
       "      <td>94.982</td>\n",
       "      <td>226733</td>\n",
       "      <td>4</td>\n",
       "      <td>58</td>\n",
       "    </tr>\n",
       "    <tr>\n",
       "      <th>4</th>\n",
       "      <td>1999</td>\n",
       "      <td>69</td>\n",
       "      <td>0.816</td>\n",
       "      <td>0.266</td>\n",
       "      <td>G#</td>\n",
       "      <td>-19.654</td>\n",
       "      <td>1</td>\n",
       "      <td>0.865</td>\n",
       "      <td>0.98100</td>\n",
       "      <td>0.000059</td>\n",
       "      <td>0.7990</td>\n",
       "      <td>0.837</td>\n",
       "      <td>130.845</td>\n",
       "      <td>15840</td>\n",
       "      <td>4</td>\n",
       "      <td>2</td>\n",
       "    </tr>\n",
       "  </tbody>\n",
       "</table>\n",
       "</div>"
      ],
      "text/plain": [
       "  album_release_year  album_popularity  danceability  energy key  loudness  \\\n",
       "0               1999                69         0.648   0.199  C#   -25.565   \n",
       "1               1999                69         0.869   0.680  C#    -6.233   \n",
       "2               1999                69         0.660   0.789   G    -5.143   \n",
       "3               1999                69         0.866   0.599   D    -7.903   \n",
       "4               1999                69         0.816   0.266  G#   -19.654   \n",
       "\n",
       "   mode  speechiness  acousticness  instrumentalness  liveness  valence  \\\n",
       "0     1        0.883       0.27500          0.000000    0.1360    0.950   \n",
       "1     1        0.318       0.04160          0.000001    0.0914    0.815   \n",
       "2     1        0.364       0.05270          0.000000    0.3410    0.513   \n",
       "3     1        0.163       0.00917          0.000000    0.0655    0.831   \n",
       "4     1        0.865       0.98100          0.000059    0.7990    0.837   \n",
       "\n",
       "     tempo  duration_ms  time_signature  track_popularity  \n",
       "0  149.548        33227               1                49  \n",
       "1   85.519       268400               4                73  \n",
       "2  182.218       199333               4                66  \n",
       "3   94.982       226733               4                58  \n",
       "4  130.845        15840               4                 2  "
      ]
     },
     "execution_count": 59,
     "metadata": {},
     "output_type": "execute_result"
    }
   ],
   "source": [
    "#df = load_dataset()\n",
    "#df.head()"
   ]
  },
  {
   "cell_type": "code",
   "execution_count": null,
   "metadata": {},
   "outputs": [],
   "source": []
  },
  {
   "cell_type": "code",
   "execution_count": null,
   "metadata": {},
   "outputs": [],
   "source": []
  },
  {
   "cell_type": "code",
   "execution_count": null,
   "metadata": {},
   "outputs": [],
   "source": []
  }
 ],
 "metadata": {
  "kernelspec": {
   "display_name": "Python 3",
   "language": "python",
   "name": "python3"
  },
  "language_info": {
   "codemirror_mode": {
    "name": "ipython",
    "version": 3
   },
   "file_extension": ".py",
   "mimetype": "text/x-python",
   "name": "python",
   "nbconvert_exporter": "python",
   "pygments_lexer": "ipython3",
   "version": "3.6.5"
  }
 },
 "nbformat": 4,
 "nbformat_minor": 2
}
