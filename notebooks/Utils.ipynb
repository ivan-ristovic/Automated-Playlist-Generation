{
 "cells": [
  {
   "cell_type": "code",
   "execution_count": 1,
   "metadata": {},
   "outputs": [],
   "source": [
    "import numpy as np\n",
    "import pandas as pd\n",
    "import os"
   ]
  },
  {
   "cell_type": "code",
   "execution_count": 2,
   "metadata": {},
   "outputs": [],
   "source": [
    "from sklearn import preprocessing\n",
    "from sklearn import model_selection"
   ]
  },
  {
   "cell_type": "code",
   "execution_count": 3,
   "metadata": {},
   "outputs": [],
   "source": [
    "# pip install ipynb"
   ]
  },
  {
   "cell_type": "code",
   "execution_count": null,
   "metadata": {},
   "outputs": [],
   "source": []
  },
  {
   "cell_type": "code",
   "execution_count": 4,
   "metadata": {},
   "outputs": [],
   "source": [
    "def remove_uninformative_attrs(df):\n",
    "    relevant_cols = ['danceability', 'energy', 'key', 'loudness', 'mode', 'speechiness', \\\n",
    "                     'acousticness', 'instrumentalness', 'liveness', 'valence', 'tempo', \\\n",
    "                     'duration_ms', 'time_signature', 'category']\n",
    "    return df[relevant_cols]"
   ]
  },
  {
   "cell_type": "code",
   "execution_count": 5,
   "metadata": {},
   "outputs": [],
   "source": [
    "def load_dataset(path='../data', split=True, scale=True):\n",
    "    frames = []\n",
    "    \n",
    "    for p in os.listdir(path):\n",
    "        if p.startswith('p_') == False:\n",
    "            continue\n",
    "        df = pd.DataFrame(pd.read_csv(os.path.join(path, p)))\n",
    "        df['category'] = p[2:-4]\n",
    "        df = remove_uninformative_attrs(df)\n",
    "        df['mode'] = [0 if mode == 'minor' else 1 for mode in df['mode']]\n",
    "        df = pd.concat([df, pd.get_dummies(df['key'])], axis=1)\n",
    "        df = df.drop('key', axis = 1)\n",
    "        frames.append(df)\n",
    "        \n",
    "    df = pd.concat(frames)\n",
    "    df = df.dropna()\n",
    "    \n",
    "    if split:\n",
    "        x_train, x_test, y_train, y_test = split_data(df)\n",
    "        if scale:\n",
    "            x_train, x_test = scale_data(x_train, x_test)\n",
    "        return (x_train, x_test, y_train, y_test)\n",
    "    else: \n",
    "        return df"
   ]
  },
  {
   "cell_type": "code",
   "execution_count": 6,
   "metadata": {},
   "outputs": [],
   "source": [
    "def scale_data(x_train, x_test):\n",
    "    scaler = preprocessing.StandardScaler()\n",
    "    scaler.fit(x_train)\n",
    "    x_train_transformed = scaler.transform(x_train)\n",
    "    x_test_transformed = scaler.transform(x_test)\n",
    "    return (x_train_transformed, x_test_transformed)"
   ]
  },
  {
   "cell_type": "code",
   "execution_count": 7,
   "metadata": {},
   "outputs": [],
   "source": [
    "def split_data(df):\n",
    "    x = df.drop(['category'], axis=1)\n",
    "    y = df['category']\n",
    "    return model_selection.train_test_split(x, y, train_size=0.7, test_size=0.3, stratify=y)"
   ]
  },
  {
   "cell_type": "code",
   "execution_count": null,
   "metadata": {},
   "outputs": [],
   "source": []
  }
 ],
 "metadata": {
  "kernelspec": {
   "display_name": "Python 3",
   "language": "python",
   "name": "python3"
  },
  "language_info": {
   "codemirror_mode": {
    "name": "ipython",
    "version": 3
   },
   "file_extension": ".py",
   "mimetype": "text/x-python",
   "name": "python",
   "nbconvert_exporter": "python",
   "pygments_lexer": "ipython3",
   "version": "3.6.5"
  }
 },
 "nbformat": 4,
 "nbformat_minor": 2
}
